{
 "cells": [
  {
   "cell_type": "markdown",
   "metadata": {},
   "source": [
    "## 신경망과 딥러닝\n",
    "# Tensorflow 2.x"
   ]
  },
  {
   "cell_type": "code",
   "execution_count": 2,
   "metadata": {},
   "outputs": [],
   "source": [
    "import numpy as np\n",
    "import matplotlib.pyplot as plt"
   ]
  },
  {
   "cell_type": "markdown",
   "metadata": {},
   "source": [
    "### 텐서플로 불러오기"
   ]
  },
  {
   "cell_type": "code",
   "execution_count": 1,
   "metadata": {},
   "outputs": [],
   "source": [
    "import tensorflow as tf\n",
    "from tensorflow import keras"
   ]
  },
  {
   "cell_type": "code",
   "execution_count": 3,
   "metadata": {},
   "outputs": [
    {
     "data": {
      "text/plain": [
       "'2.4.0'"
      ]
     },
     "execution_count": 3,
     "metadata": {},
     "output_type": "execute_result"
    }
   ],
   "source": [
    "tf.__version__"
   ]
  },
  {
   "cell_type": "markdown",
   "metadata": {},
   "source": [
    "### 상수 정의"
   ]
  },
  {
   "cell_type": "code",
   "execution_count": 3,
   "metadata": {},
   "outputs": [
    {
     "data": {
      "text/plain": [
       "<tf.Tensor: shape=(3,), dtype=int32, numpy=array([1, 2, 3])>"
      ]
     },
     "execution_count": 3,
     "metadata": {},
     "output_type": "execute_result"
    }
   ],
   "source": [
    "a = tf.constant([1,2,3])\n",
    "a"
   ]
  },
  {
   "cell_type": "code",
   "execution_count": 4,
   "metadata": {},
   "outputs": [
    {
     "data": {
      "text/plain": [
       "array([1, 2, 3])"
      ]
     },
     "execution_count": 4,
     "metadata": {},
     "output_type": "execute_result"
    }
   ],
   "source": [
    "a.numpy()"
   ]
  },
  {
   "cell_type": "code",
   "execution_count": null,
   "metadata": {},
   "outputs": [],
   "source": []
  },
  {
   "cell_type": "code",
   "execution_count": 6,
   "metadata": {},
   "outputs": [
    {
     "data": {
      "text/plain": [
       "<tf.Tensor: shape=(3, 3), dtype=float64, numpy=\n",
       "array([[0., 0., 0.],\n",
       "       [0., 0., 0.],\n",
       "       [0., 0., 0.]])>"
      ]
     },
     "execution_count": 6,
     "metadata": {},
     "output_type": "execute_result"
    }
   ],
   "source": [
    "a = tf.constant(np.zeros([3,3]))\n",
    "a"
   ]
  },
  {
   "cell_type": "code",
   "execution_count": null,
   "metadata": {},
   "outputs": [],
   "source": []
  },
  {
   "cell_type": "code",
   "execution_count": 7,
   "metadata": {},
   "outputs": [
    {
     "data": {
      "text/plain": [
       "<tf.Tensor: shape=(3, 3), dtype=float64, numpy=\n",
       "array([[ 0.29403328,  0.92638787,  0.30121074],\n",
       "       [-0.64687118, -0.87361732,  0.03403373],\n",
       "       [ 1.0845237 , -0.77463093,  0.77346576]])>"
      ]
     },
     "execution_count": 7,
     "metadata": {},
     "output_type": "execute_result"
    }
   ],
   "source": [
    "a = tf.convert_to_tensor(np.random.randn(3,3))\n",
    "a"
   ]
  },
  {
   "cell_type": "code",
   "execution_count": null,
   "metadata": {},
   "outputs": [],
   "source": []
  },
  {
   "cell_type": "code",
   "execution_count": 10,
   "metadata": {},
   "outputs": [
    {
     "data": {
      "text/plain": [
       "<tf.Tensor: shape=(3, 3), dtype=float32, numpy=\n",
       "array([[10.478706 ,  9.417757 , 10.1420145],\n",
       "       [10.11939  ,  9.785744 , 10.049445 ],\n",
       "       [ 9.955601 , 10.922347 ,  9.859149 ]], dtype=float32)>"
      ]
     },
     "execution_count": 10,
     "metadata": {},
     "output_type": "execute_result"
    }
   ],
   "source": [
    "a = tf.random.normal([3,3], 10, 1)\n",
    "a"
   ]
  },
  {
   "cell_type": "code",
   "execution_count": null,
   "metadata": {},
   "outputs": [],
   "source": []
  },
  {
   "cell_type": "markdown",
   "metadata": {},
   "source": [
    "### 변수 정의"
   ]
  },
  {
   "cell_type": "code",
   "execution_count": 11,
   "metadata": {},
   "outputs": [
    {
     "data": {
      "text/plain": [
       "<tf.Variable 'Variable:0' shape=(3,) dtype=int32, numpy=array([1, 2, 3])>"
      ]
     },
     "execution_count": 11,
     "metadata": {},
     "output_type": "execute_result"
    }
   ],
   "source": [
    "x = tf.Variable([1,2,3])\n",
    "x"
   ]
  },
  {
   "cell_type": "code",
   "execution_count": 12,
   "metadata": {},
   "outputs": [
    {
     "data": {
      "text/plain": [
       "<tf.Variable 'Variable:0' shape=(3,) dtype=float32, numpy=array([1., 2., 3.], dtype=float32)>"
      ]
     },
     "execution_count": 12,
     "metadata": {},
     "output_type": "execute_result"
    }
   ],
   "source": [
    "x = tf.Variable([1., 2, 3])\n",
    "x"
   ]
  },
  {
   "cell_type": "code",
   "execution_count": 13,
   "metadata": {},
   "outputs": [
    {
     "data": {
      "text/plain": [
       "<tf.Variable 'Variable:0' shape=(3,) dtype=float32, numpy=array([10., 11., 12.], dtype=float32)>"
      ]
     },
     "execution_count": 13,
     "metadata": {},
     "output_type": "execute_result"
    }
   ],
   "source": [
    "x.assign([10,11,12])\n",
    "x"
   ]
  },
  {
   "cell_type": "code",
   "execution_count": 14,
   "metadata": {},
   "outputs": [
    {
     "data": {
      "text/plain": [
       "<tf.Variable 'Variable:0' shape=(3,) dtype=float32, numpy=array([10.1, 11.2, 12.3], dtype=float32)>"
      ]
     },
     "execution_count": 14,
     "metadata": {},
     "output_type": "execute_result"
    }
   ],
   "source": [
    "x.assign_add([0.1, 0.2, 0.3])\n",
    "x"
   ]
  },
  {
   "cell_type": "code",
   "execution_count": 15,
   "metadata": {},
   "outputs": [
    {
     "data": {
      "text/plain": [
       "<tf.Variable 'Variable:0' shape=(3,) dtype=float32, numpy=array([9.1, 9.2, 9.3], dtype=float32)>"
      ]
     },
     "execution_count": 15,
     "metadata": {},
     "output_type": "execute_result"
    }
   ],
   "source": [
    "x.assign_sub([1,2,3])\n",
    "x"
   ]
  },
  {
   "cell_type": "code",
   "execution_count": null,
   "metadata": {},
   "outputs": [],
   "source": []
  },
  {
   "cell_type": "markdown",
   "metadata": {},
   "source": [
    "### 기울기 계산 (미분)\n",
    "- tf.GradientTape()"
   ]
  },
  {
   "cell_type": "code",
   "execution_count": 16,
   "metadata": {},
   "outputs": [
    {
     "data": {
      "text/plain": [
       "<tf.Tensor: shape=(), dtype=float32, numpy=2.0>"
      ]
     },
     "execution_count": 16,
     "metadata": {},
     "output_type": "execute_result"
    }
   ],
   "source": [
    "x = tf.Variable(1.0)\n",
    "\n",
    "with tf.GradientTape() as tape:\n",
    "    y = x**2\n",
    "    \n",
    "grads = tape.gradient(y, x)\n",
    "grads"
   ]
  },
  {
   "cell_type": "code",
   "execution_count": null,
   "metadata": {},
   "outputs": [],
   "source": []
  },
  {
   "cell_type": "code",
   "execution_count": 17,
   "metadata": {},
   "outputs": [
    {
     "data": {
      "text/plain": [
       "<tf.Tensor: shape=(), dtype=float32, numpy=2.0>"
      ]
     },
     "execution_count": 17,
     "metadata": {},
     "output_type": "execute_result"
    }
   ],
   "source": [
    "x = tf.constant(1.0)\n",
    "\n",
    "with tf.GradientTape() as tape:\n",
    "    tape.watch(x) # x 가 상수인 경우\n",
    "    y = x**2\n",
    "    \n",
    "grads = tape.gradient(y, x)\n",
    "grads"
   ]
  },
  {
   "cell_type": "code",
   "execution_count": null,
   "metadata": {},
   "outputs": [],
   "source": []
  },
  {
   "cell_type": "code",
   "execution_count": 21,
   "metadata": {},
   "outputs": [
    {
     "data": {
      "text/plain": [
       "<tf.Tensor: shape=(), dtype=float32, numpy=3.0>"
      ]
     },
     "metadata": {},
     "output_type": "display_data"
    },
    {
     "data": {
      "text/plain": [
       "<tf.Tensor: shape=(), dtype=float32, numpy=2.0>"
      ]
     },
     "metadata": {},
     "output_type": "display_data"
    }
   ],
   "source": [
    "x1 = tf.Variable(1.0)\n",
    "x2 = tf.Variable(2.0)\n",
    "\n",
    "with tf.GradientTape(persistent=True) as tape:\n",
    "    y = x1 + x2 + x1*x2\n",
    "    \n",
    "grads1 = tape.gradient(y, x1)\n",
    "grads2 = tape.gradient(y, x2)\n",
    "\n",
    "del tape # 명시적 제거\n",
    "\n",
    "display(grads1, grads2)"
   ]
  },
  {
   "cell_type": "code",
   "execution_count": null,
   "metadata": {},
   "outputs": [],
   "source": []
  },
  {
   "cell_type": "code",
   "execution_count": 22,
   "metadata": {},
   "outputs": [
    {
     "data": {
      "text/plain": [
       "<tf.Tensor: shape=(), dtype=float32, numpy=2.0>"
      ]
     },
     "metadata": {},
     "output_type": "display_data"
    },
    {
     "data": {
      "text/plain": [
       "<tf.Tensor: shape=(), dtype=float32, numpy=3.0>"
      ]
     },
     "metadata": {},
     "output_type": "display_data"
    },
    {
     "data": {
      "text/plain": [
       "<tf.Tensor: shape=(), dtype=float32, numpy=1.0>"
      ]
     },
     "metadata": {},
     "output_type": "display_data"
    }
   ],
   "source": [
    "x = tf.Variable(1.0)\n",
    "\n",
    "with tf.GradientTape(persistent=True) as tape:\n",
    "    y = x**2\n",
    "    z = x*y\n",
    "    \n",
    "grads1 = tape.gradient(y, x)\n",
    "grads2 = tape.gradient(z, x)\n",
    "grads3 = tape.gradient(z, y)\n",
    "\n",
    "del tape\n",
    "\n",
    "display(grads1, grads2, grads3)"
   ]
  },
  {
   "cell_type": "code",
   "execution_count": null,
   "metadata": {},
   "outputs": [],
   "source": []
  },
  {
   "cell_type": "markdown",
   "metadata": {},
   "source": [
    "### 활성화 함수"
   ]
  },
  {
   "cell_type": "code",
   "execution_count": 30,
   "metadata": {},
   "outputs": [
    {
     "data": {
      "text/plain": [
       "<tf.Tensor: shape=(), dtype=float32, numpy=0.95257413>"
      ]
     },
     "execution_count": 30,
     "metadata": {},
     "output_type": "execute_result"
    }
   ],
   "source": [
    "tf.nn.sigmoid(3.0) # 실수값(tf.float32) 만 가능"
   ]
  },
  {
   "cell_type": "code",
   "execution_count": 31,
   "metadata": {},
   "outputs": [
    {
     "data": {
      "text/plain": [
       "<tf.Tensor: shape=(11,), dtype=float32, numpy=\n",
       "array([0.00669286, 0.01798624, 0.04742587, 0.11920291, 0.26894143,\n",
       "       0.5       , 0.7310586 , 0.8807971 , 0.95257413, 0.98201376,\n",
       "       0.9933071 ], dtype=float32)>"
      ]
     },
     "execution_count": 31,
     "metadata": {},
     "output_type": "execute_result"
    }
   ],
   "source": [
    "a = np.arange(-5,6, dtype=np.float32)\n",
    "tf.nn.sigmoid(a)"
   ]
  },
  {
   "cell_type": "code",
   "execution_count": null,
   "metadata": {},
   "outputs": [],
   "source": []
  },
  {
   "cell_type": "code",
   "execution_count": 32,
   "metadata": {},
   "outputs": [
    {
     "data": {
      "text/plain": [
       "<tf.Tensor: shape=(4,), dtype=float32, numpy=array([0., 0., 1., 2.], dtype=float32)>"
      ]
     },
     "execution_count": 32,
     "metadata": {},
     "output_type": "execute_result"
    }
   ],
   "source": [
    "tf.nn.relu([-1.0, 0, 1, 2])"
   ]
  },
  {
   "cell_type": "code",
   "execution_count": null,
   "metadata": {},
   "outputs": [],
   "source": []
  },
  {
   "cell_type": "code",
   "execution_count": 33,
   "metadata": {},
   "outputs": [
    {
     "data": {
      "text/plain": [
       "<tf.Tensor: shape=(3,), dtype=float32, numpy=array([0.09003057, 0.24472848, 0.66524094], dtype=float32)>"
      ]
     },
     "execution_count": 33,
     "metadata": {},
     "output_type": "execute_result"
    }
   ],
   "source": [
    "tf.nn.softmax([1.0, 2.0, 3])"
   ]
  },
  {
   "cell_type": "code",
   "execution_count": null,
   "metadata": {},
   "outputs": [],
   "source": []
  },
  {
   "cell_type": "code",
   "execution_count": 34,
   "metadata": {},
   "outputs": [
    {
     "data": {
      "text/plain": [
       "<tf.Tensor: shape=(5,), dtype=float32, numpy=\n",
       "array([-0.9640276, -0.7615942,  0.       ,  0.7615942,  0.9640276],\n",
       "      dtype=float32)>"
      ]
     },
     "execution_count": 34,
     "metadata": {},
     "output_type": "execute_result"
    }
   ],
   "source": [
    "tf.nn.tanh([-2.0, -1, 0, 1, 2])"
   ]
  },
  {
   "cell_type": "code",
   "execution_count": null,
   "metadata": {},
   "outputs": [],
   "source": []
  },
  {
   "cell_type": "markdown",
   "metadata": {},
   "source": [
    "### 수학함수"
   ]
  },
  {
   "cell_type": "code",
   "execution_count": 35,
   "metadata": {},
   "outputs": [
    {
     "data": {
      "text/plain": [
       "<tf.Tensor: shape=(), dtype=float32, numpy=1.4142135>"
      ]
     },
     "execution_count": 35,
     "metadata": {},
     "output_type": "execute_result"
    }
   ],
   "source": [
    "tf.math.sqrt(2.0)"
   ]
  },
  {
   "cell_type": "code",
   "execution_count": 36,
   "metadata": {},
   "outputs": [
    {
     "data": {
      "text/plain": [
       "<tf.Tensor: shape=(), dtype=int64, numpy=3>"
      ]
     },
     "execution_count": 36,
     "metadata": {},
     "output_type": "execute_result"
    }
   ],
   "source": [
    "tf.math.argmax([3.0, 2, 1, 4, 2])"
   ]
  },
  {
   "cell_type": "code",
   "execution_count": null,
   "metadata": {},
   "outputs": [],
   "source": []
  },
  {
   "cell_type": "markdown",
   "metadata": {},
   "source": [
    "### 경사하강법 적용 (iris)"
   ]
  },
  {
   "cell_type": "code",
   "execution_count": 6,
   "metadata": {
    "collapsed": true
   },
   "outputs": [
    {
     "data": {
      "text/plain": [
       "array([[5.1, 3.5, 1.4, 0.2],\n",
       "       [4.9, 3. , 1.4, 0.2],\n",
       "       [4.7, 3.2, 1.3, 0.2],\n",
       "       [4.6, 3.1, 1.5, 0.2],\n",
       "       [5. , 3.6, 1.4, 0.2],\n",
       "       [5.4, 3.9, 1.7, 0.4],\n",
       "       [4.6, 3.4, 1.4, 0.3],\n",
       "       [5. , 3.4, 1.5, 0.2],\n",
       "       [4.4, 2.9, 1.4, 0.2],\n",
       "       [4.9, 3.1, 1.5, 0.1],\n",
       "       [5.4, 3.7, 1.5, 0.2],\n",
       "       [4.8, 3.4, 1.6, 0.2],\n",
       "       [4.8, 3. , 1.4, 0.1],\n",
       "       [4.3, 3. , 1.1, 0.1],\n",
       "       [5.8, 4. , 1.2, 0.2],\n",
       "       [5.7, 4.4, 1.5, 0.4],\n",
       "       [5.4, 3.9, 1.3, 0.4],\n",
       "       [5.1, 3.5, 1.4, 0.3],\n",
       "       [5.7, 3.8, 1.7, 0.3],\n",
       "       [5.1, 3.8, 1.5, 0.3],\n",
       "       [5.4, 3.4, 1.7, 0.2],\n",
       "       [5.1, 3.7, 1.5, 0.4],\n",
       "       [4.6, 3.6, 1. , 0.2],\n",
       "       [5.1, 3.3, 1.7, 0.5],\n",
       "       [4.8, 3.4, 1.9, 0.2],\n",
       "       [5. , 3. , 1.6, 0.2],\n",
       "       [5. , 3.4, 1.6, 0.4],\n",
       "       [5.2, 3.5, 1.5, 0.2],\n",
       "       [5.2, 3.4, 1.4, 0.2],\n",
       "       [4.7, 3.2, 1.6, 0.2],\n",
       "       [4.8, 3.1, 1.6, 0.2],\n",
       "       [5.4, 3.4, 1.5, 0.4],\n",
       "       [5.2, 4.1, 1.5, 0.1],\n",
       "       [5.5, 4.2, 1.4, 0.2],\n",
       "       [4.9, 3.1, 1.5, 0.1],\n",
       "       [5. , 3.2, 1.2, 0.2],\n",
       "       [5.5, 3.5, 1.3, 0.2],\n",
       "       [4.9, 3.1, 1.5, 0.1],\n",
       "       [4.4, 3. , 1.3, 0.2],\n",
       "       [5.1, 3.4, 1.5, 0.2],\n",
       "       [5. , 3.5, 1.3, 0.3],\n",
       "       [4.5, 2.3, 1.3, 0.3],\n",
       "       [4.4, 3.2, 1.3, 0.2],\n",
       "       [5. , 3.5, 1.6, 0.6],\n",
       "       [5.1, 3.8, 1.9, 0.4],\n",
       "       [4.8, 3. , 1.4, 0.3],\n",
       "       [5.1, 3.8, 1.6, 0.2],\n",
       "       [4.6, 3.2, 1.4, 0.2],\n",
       "       [5.3, 3.7, 1.5, 0.2],\n",
       "       [5. , 3.3, 1.4, 0.2],\n",
       "       [7. , 3.2, 4.7, 1.4],\n",
       "       [6.4, 3.2, 4.5, 1.5],\n",
       "       [6.9, 3.1, 4.9, 1.5],\n",
       "       [5.5, 2.3, 4. , 1.3],\n",
       "       [6.5, 2.8, 4.6, 1.5],\n",
       "       [5.7, 2.8, 4.5, 1.3],\n",
       "       [6.3, 3.3, 4.7, 1.6],\n",
       "       [4.9, 2.4, 3.3, 1. ],\n",
       "       [6.6, 2.9, 4.6, 1.3],\n",
       "       [5.2, 2.7, 3.9, 1.4],\n",
       "       [5. , 2. , 3.5, 1. ],\n",
       "       [5.9, 3. , 4.2, 1.5],\n",
       "       [6. , 2.2, 4. , 1. ],\n",
       "       [6.1, 2.9, 4.7, 1.4],\n",
       "       [5.6, 2.9, 3.6, 1.3],\n",
       "       [6.7, 3.1, 4.4, 1.4],\n",
       "       [5.6, 3. , 4.5, 1.5],\n",
       "       [5.8, 2.7, 4.1, 1. ],\n",
       "       [6.2, 2.2, 4.5, 1.5],\n",
       "       [5.6, 2.5, 3.9, 1.1],\n",
       "       [5.9, 3.2, 4.8, 1.8],\n",
       "       [6.1, 2.8, 4. , 1.3],\n",
       "       [6.3, 2.5, 4.9, 1.5],\n",
       "       [6.1, 2.8, 4.7, 1.2],\n",
       "       [6.4, 2.9, 4.3, 1.3],\n",
       "       [6.6, 3. , 4.4, 1.4],\n",
       "       [6.8, 2.8, 4.8, 1.4],\n",
       "       [6.7, 3. , 5. , 1.7],\n",
       "       [6. , 2.9, 4.5, 1.5],\n",
       "       [5.7, 2.6, 3.5, 1. ],\n",
       "       [5.5, 2.4, 3.8, 1.1],\n",
       "       [5.5, 2.4, 3.7, 1. ],\n",
       "       [5.8, 2.7, 3.9, 1.2],\n",
       "       [6. , 2.7, 5.1, 1.6],\n",
       "       [5.4, 3. , 4.5, 1.5],\n",
       "       [6. , 3.4, 4.5, 1.6],\n",
       "       [6.7, 3.1, 4.7, 1.5],\n",
       "       [6.3, 2.3, 4.4, 1.3],\n",
       "       [5.6, 3. , 4.1, 1.3],\n",
       "       [5.5, 2.5, 4. , 1.3],\n",
       "       [5.5, 2.6, 4.4, 1.2],\n",
       "       [6.1, 3. , 4.6, 1.4],\n",
       "       [5.8, 2.6, 4. , 1.2],\n",
       "       [5. , 2.3, 3.3, 1. ],\n",
       "       [5.6, 2.7, 4.2, 1.3],\n",
       "       [5.7, 3. , 4.2, 1.2],\n",
       "       [5.7, 2.9, 4.2, 1.3],\n",
       "       [6.2, 2.9, 4.3, 1.3],\n",
       "       [5.1, 2.5, 3. , 1.1],\n",
       "       [5.7, 2.8, 4.1, 1.3],\n",
       "       [6.3, 3.3, 6. , 2.5],\n",
       "       [5.8, 2.7, 5.1, 1.9],\n",
       "       [7.1, 3. , 5.9, 2.1],\n",
       "       [6.3, 2.9, 5.6, 1.8],\n",
       "       [6.5, 3. , 5.8, 2.2],\n",
       "       [7.6, 3. , 6.6, 2.1],\n",
       "       [4.9, 2.5, 4.5, 1.7],\n",
       "       [7.3, 2.9, 6.3, 1.8],\n",
       "       [6.7, 2.5, 5.8, 1.8],\n",
       "       [7.2, 3.6, 6.1, 2.5],\n",
       "       [6.5, 3.2, 5.1, 2. ],\n",
       "       [6.4, 2.7, 5.3, 1.9],\n",
       "       [6.8, 3. , 5.5, 2.1],\n",
       "       [5.7, 2.5, 5. , 2. ],\n",
       "       [5.8, 2.8, 5.1, 2.4],\n",
       "       [6.4, 3.2, 5.3, 2.3],\n",
       "       [6.5, 3. , 5.5, 1.8],\n",
       "       [7.7, 3.8, 6.7, 2.2],\n",
       "       [7.7, 2.6, 6.9, 2.3],\n",
       "       [6. , 2.2, 5. , 1.5],\n",
       "       [6.9, 3.2, 5.7, 2.3],\n",
       "       [5.6, 2.8, 4.9, 2. ],\n",
       "       [7.7, 2.8, 6.7, 2. ],\n",
       "       [6.3, 2.7, 4.9, 1.8],\n",
       "       [6.7, 3.3, 5.7, 2.1],\n",
       "       [7.2, 3.2, 6. , 1.8],\n",
       "       [6.2, 2.8, 4.8, 1.8],\n",
       "       [6.1, 3. , 4.9, 1.8],\n",
       "       [6.4, 2.8, 5.6, 2.1],\n",
       "       [7.2, 3. , 5.8, 1.6],\n",
       "       [7.4, 2.8, 6.1, 1.9],\n",
       "       [7.9, 3.8, 6.4, 2. ],\n",
       "       [6.4, 2.8, 5.6, 2.2],\n",
       "       [6.3, 2.8, 5.1, 1.5],\n",
       "       [6.1, 2.6, 5.6, 1.4],\n",
       "       [7.7, 3. , 6.1, 2.3],\n",
       "       [6.3, 3.4, 5.6, 2.4],\n",
       "       [6.4, 3.1, 5.5, 1.8],\n",
       "       [6. , 3. , 4.8, 1.8],\n",
       "       [6.9, 3.1, 5.4, 2.1],\n",
       "       [6.7, 3.1, 5.6, 2.4],\n",
       "       [6.9, 3.1, 5.1, 2.3],\n",
       "       [5.8, 2.7, 5.1, 1.9],\n",
       "       [6.8, 3.2, 5.9, 2.3],\n",
       "       [6.7, 3.3, 5.7, 2.5],\n",
       "       [6.7, 3. , 5.2, 2.3],\n",
       "       [6.3, 2.5, 5. , 1.9],\n",
       "       [6.5, 3. , 5.2, 2. ],\n",
       "       [6.2, 3.4, 5.4, 2.3],\n",
       "       [5.9, 3. , 5.1, 1.8]])"
      ]
     },
     "execution_count": 6,
     "metadata": {},
     "output_type": "execute_result"
    }
   ],
   "source": [
    "iris = np.loadtxt('iris.csv', skiprows=1, delimiter=',', usecols=[0,1,2,3])\n",
    "iris"
   ]
  },
  {
   "cell_type": "code",
   "execution_count": 7,
   "metadata": {},
   "outputs": [
    {
     "data": {
      "text/plain": [
       "((150, 3), (150, 1))"
      ]
     },
     "execution_count": 7,
     "metadata": {},
     "output_type": "execute_result"
    }
   ],
   "source": [
    "X = iris[:, :3]\n",
    "y = iris[:,[3]]\n",
    "\n",
    "X.shape, y.shape"
   ]
  },
  {
   "cell_type": "code",
   "execution_count": 10,
   "metadata": {
    "scrolled": true
   },
   "outputs": [
    {
     "name": "stdout",
     "output_type": "stream",
     "text": [
      "99 0.4017698\n"
     ]
    },
    {
     "data": {
      "image/png": "[encoded data removed]",
      "text/plain": [
       "<Figure size 432x288 with 1 Axes>"
      ]
     },
     "metadata": {
      "needs_background": "light"
     },
     "output_type": "display_data"
    },
    {
     "name": "stdout",
     "output_type": "stream",
     "text": [
      "199 0.32788327\n"
     ]
    },
    {
     "data": {
      "image/png": "[encoded data removed]",
      "text/plain": [
       "<Figure size 432x288 with 1 Axes>"
      ]
     },
     "metadata": {
      "needs_background": "light"
     },
     "output_type": "display_data"
    },
    {
     "name": "stdout",
     "output_type": "stream",
     "text": [
      "299 0.2900925\n"
     ]
    },
    {
     "data": {
      "image/png": "[encoded data removed]",
      "text/plain": [
       "<Figure size 432x288 with 1 Axes>"
      ]
     },
     "metadata": {
      "needs_background": "light"
     },
     "output_type": "display_data"
    },
    {
     "name": "stdout",
     "output_type": "stream",
     "text": [
      "399 0.2694311\n"
     ]
    },
    {
     "data": {
      "image/png": "[encoded data removed]",
      "text/plain": [
       "<Figure size 432x288 with 1 Axes>"
      ]
     },
     "metadata": {
      "needs_background": "light"
     },
     "output_type": "display_data"
    },
    {
     "name": "stdout",
     "output_type": "stream",
     "text": [
      "499 0.25693312\n"
     ]
    },
    {
     "data": {
      "image/png": "[encoded data removed]",
      "text/plain": [
       "<Figure size 432x288 with 1 Axes>"
      ]
     },
     "metadata": {
      "needs_background": "light"
     },
     "output_type": "display_data"
    },
    {
     "name": "stdout",
     "output_type": "stream",
     "text": [
      "599 0.24835935\n"
     ]
    },
    {
     "data": {
      "image/png": "[encoded data removed]",
      "text/plain": [
       "<Figure size 432x288 with 1 Axes>"
      ]
     },
     "metadata": {
      "needs_background": "light"
     },
     "output_type": "display_data"
    },
    {
     "name": "stdout",
     "output_type": "stream",
     "text": [
      "699 0.24170455\n"
     ]
    },
    {
     "data": {
      "image/png": "[encoded data removed]",
      "text/plain": [
       "<Figure size 432x288 with 1 Axes>"
      ]
     },
     "metadata": {
      "needs_background": "light"
     },
     "output_type": "display_data"
    },
    {
     "name": "stdout",
     "output_type": "stream",
     "text": [
      "799 0.23601954\n"
     ]
    },
    {
     "data": {
      "image/png": "[encoded data removed]",
      "text/plain": [
       "<Figure size 432x288 with 1 Axes>"
      ]
     },
     "metadata": {
      "needs_background": "light"
     },
     "output_type": "display_data"
    },
    {
     "name": "stdout",
     "output_type": "stream",
     "text": [
      "899 0.2308539\n"
     ]
    },
    {
     "data": {
      "image/png": "[encoded data removed]",
      "text/plain": [
       "<Figure size 432x288 with 1 Axes>"
      ]
     },
     "metadata": {
      "needs_background": "light"
     },
     "output_type": "display_data"
    },
    {
     "name": "stdout",
     "output_type": "stream",
     "text": [
      "999 0.2259936\n"
     ]
    },
    {
     "data": {
      "image/png": "[encoded data removed]",
      "text/plain": [
       "<Figure size 432x288 with 1 Axes>"
      ]
     },
     "metadata": {
      "needs_background": "light"
     },
     "output_type": "display_data"
    }
   ],
   "source": [
    "W = tf.Variable(tf.random.normal([3,1]))\n",
    "b = tf.Variable(0.0)\n",
    "\n",
    "lr = 0.001\n",
    "losses = []\n",
    "\n",
    "for epoch in range(1000):\n",
    "    with tf.GradientTape() as tape:\n",
    "        pred_y = X@W + b\n",
    "        loss = tf.reduce_sum((y - pred_y)**2)/len(y)\n",
    "    \n",
    "    grads = tape.gradient(loss, [W,b])\n",
    "    W.assign_sub(lr*grads[0])\n",
    "    b.assign_sub(lr*grads[1])\n",
    "    \n",
    "    losses.append(loss.numpy())\n",
    "    \n",
    "    if (epoch+1)%100==0:\n",
    "        print(epoch, loss.numpy())\n",
    "        plt.figure()\n",
    "        plt.plot(losses)\n",
    "        plt.show()"
   ]
  },
  {
   "cell_type": "code",
   "execution_count": 93,
   "metadata": {},
   "outputs": [
    {
     "data": {
      "text/plain": [
       "(<tf.Variable 'Variable:0' shape=(3, 1) dtype=float32, numpy=\n",
       " array([[-0.28748938],\n",
       "        [ 0.36621726],\n",
       "        [ 0.53286207]], dtype=float32)>,\n",
       " <tf.Variable 'Variable:0' shape=() dtype=float32, numpy=-0.23104817>)"
      ]
     },
     "execution_count": 93,
     "metadata": {},
     "output_type": "execute_result"
    }
   ],
   "source": [
    "W, b"
   ]
  },
  {
   "cell_type": "code",
   "execution_count": 94,
   "metadata": {},
   "outputs": [
    {
     "data": {
      "text/plain": [
       "<tf.Tensor: shape=(10, 1), dtype=float32, numpy=\n",
       "array([[0.33052337],\n",
       "       [0.20491254],\n",
       "       [0.28236765],\n",
       "       [0.38106728],\n",
       "       [0.39589393],\n",
       "       [0.55062205],\n",
       "       [0.43764627],\n",
       "       [0.37593663],\n",
       "       [0.31203544],\n",
       "       [0.29482043]], dtype=float32)>"
      ]
     },
     "execution_count": 94,
     "metadata": {},
     "output_type": "execute_result"
    }
   ],
   "source": [
    "pred_y2 = X[:10]@W + b\n",
    "pred_y2"
   ]
  },
  {
   "cell_type": "code",
   "execution_count": 95,
   "metadata": {},
   "outputs": [
    {
     "data": {
      "text/plain": [
       "array([[0.2],\n",
       "       [0.2],\n",
       "       [0.2],\n",
       "       [0.2],\n",
       "       [0.2],\n",
       "       [0.4],\n",
       "       [0.3],\n",
       "       [0.2],\n",
       "       [0.2],\n",
       "       [0.1]])"
      ]
     },
     "execution_count": 95,
     "metadata": {},
     "output_type": "execute_result"
    }
   ],
   "source": [
    "y[:10]"
   ]
  },
  {
   "cell_type": "code",
   "execution_count": null,
   "metadata": {},
   "outputs": [],
   "source": []
  },
  {
   "cell_type": "markdown",
   "metadata": {},
   "source": [
    "### 경사하강법 적용 (MNIST)"
   ]
  },
  {
   "cell_type": "code",
   "execution_count": 3,
   "metadata": {},
   "outputs": [],
   "source": [
    "(X_train, y_train), (X_test, y_test) = keras.datasets.mnist.load_data()"
   ]
  },
  {
   "cell_type": "code",
   "execution_count": 4,
   "metadata": {},
   "outputs": [
    {
     "data": {
      "text/plain": [
       "((60000, 28, 28), (60000,), (10000, 28, 28), (10000,))"
      ]
     },
     "execution_count": 4,
     "metadata": {},
     "output_type": "execute_result"
    }
   ],
   "source": [
    "X_train.shape, y_train.shape, X_test.shape, y_test.shape"
   ]
  },
  {
   "cell_type": "code",
   "execution_count": 39,
   "metadata": {},
   "outputs": [
    {
     "data": {
      "text/plain": [
       "<matplotlib.colorbar.Colorbar at 0x1bdb0f87f10>"
      ]
     },
     "execution_count": 39,
     "metadata": {},
     "output_type": "execute_result"
    },
    {
     "data": {
      "image/png": "[encoded data removed]",
      "text/plain": [
       "<Figure size 432x288 with 2 Axes>"
      ]
     },
     "metadata": {
      "needs_background": "light"
     },
     "output_type": "display_data"
    }
   ],
   "source": [
    "plt.imshow(X_train[0], cmap='gray_r')\n",
    "plt.colorbar()"
   ]
  },
  {
   "cell_type": "code",
   "execution_count": 40,
   "metadata": {},
   "outputs": [
    {
     "data": {
      "text/plain": [
       "<matplotlib.colorbar.Colorbar at 0x1bdbc586940>"
      ]
     },
     "execution_count": 40,
     "metadata": {},
     "output_type": "execute_result"
    },
    {
     "data": {
      "image/png": "[encoded data removed]",
      "text/plain": [
       "<Figure size 432x288 with 2 Axes>"
      ]
     },
     "metadata": {
      "needs_background": "light"
     },
     "output_type": "display_data"
    }
   ],
   "source": [
    "plt.imshow(X_test[0], cmap='gray_r')\n",
    "plt.colorbar()"
   ]
  },
  {
   "cell_type": "code",
   "execution_count": null,
   "metadata": {},
   "outputs": [],
   "source": []
  },
  {
   "cell_type": "code",
   "execution_count": 5,
   "metadata": {},
   "outputs": [],
   "source": [
    "# 데이터 전처리\n",
    "X = X_train.reshape(-1,28*28).astype(np.float32) # 반드시 np.float32\n",
    "y = np.eye(10, dtype=np.float32)[y_train] # 반드시 np.float32"
   ]
  },
  {
   "cell_type": "code",
   "execution_count": 102,
   "metadata": {},
   "outputs": [],
   "source": [
    "# 가중치 초기화\n",
    "W = tf.Variable(tf.random.normal([28*28,10]))\n",
    "b = tf.Variable(tf.zeros(10))"
   ]
  },
  {
   "cell_type": "code",
   "execution_count": 103,
   "metadata": {},
   "outputs": [
    {
     "name": "stdout",
     "output_type": "stream",
     "text": [
      "0 1.6989563\n",
      "1 1.6984291\n",
      "2 1.6971991\n",
      "3 1.6948956\n",
      "4 1.6942176\n",
      "5 1.6936755\n",
      "6 1.6926142\n",
      "7 1.6918312\n",
      "8 1.6912133\n",
      "9 1.690535\n",
      "10 1.68972\n",
      "11 1.6888235\n",
      "12 1.6880273\n",
      "13 1.6868707\n",
      "14 1.6860609\n",
      "15 1.6850986\n",
      "16 1.6845334\n",
      "17 1.684371\n",
      "18 1.6832641\n",
      "19 1.6823139\n",
      "20 1.6813086\n",
      "21 1.6799984\n",
      "22 1.6794533\n",
      "23 1.6787488\n",
      "24 1.6780474\n",
      "25 1.6776386\n",
      "26 1.6768461\n",
      "27 1.6760788\n",
      "28 1.6751283\n",
      "29 1.6743464\n",
      "30 1.6735352\n",
      "31 1.672868\n",
      "32 1.6725593\n",
      "33 1.6717707\n",
      "34 1.6711544\n",
      "35 1.6700184\n",
      "36 1.6689183\n",
      "37 1.6687943\n",
      "38 1.6681988\n",
      "39 1.6677216\n",
      "40 1.6667396\n",
      "41 1.6660328\n",
      "42 1.6651524\n",
      "43 1.6646156\n",
      "44 1.6638658\n",
      "45 1.6630385\n",
      "46 1.6627971\n",
      "47 1.6627755\n",
      "48 1.6616468\n",
      "49 1.6604553\n",
      "50 1.6592795\n",
      "51 1.6584073\n",
      "52 1.65755\n",
      "53 1.6563815\n",
      "54 1.6555396\n",
      "55 1.6540877\n",
      "56 1.6532891\n",
      "57 1.6519997\n",
      "58 1.6513166\n",
      "59 1.6507901\n",
      "60 1.6500281\n",
      "61 1.6489854\n",
      "62 1.6481408\n",
      "63 1.6474953\n",
      "64 1.6470536\n",
      "65 1.6459584\n",
      "66 1.6453731\n",
      "67 1.6447763\n",
      "68 1.6443594\n",
      "69 1.6439071\n",
      "70 1.6429256\n",
      "71 1.6422917\n",
      "72 1.6418985\n",
      "73 1.6412642\n",
      "74 1.6408726\n",
      "75 1.6402354\n",
      "76 1.6394795\n",
      "77 1.6388552\n",
      "78 1.6384618\n",
      "79 1.637492\n",
      "80 1.6368492\n",
      "81 1.6362258\n",
      "82 1.6363691\n",
      "83 1.6355273\n",
      "84 1.6347764\n",
      "85 1.6343502\n",
      "86 1.6333228\n",
      "87 1.6326842\n",
      "88 1.63141\n",
      "89 1.6307914\n",
      "90 1.6304567\n",
      "91 1.6297225\n",
      "92 1.628826\n",
      "93 1.6282907\n",
      "94 1.6279716\n",
      "95 1.6276547\n",
      "96 1.6276069\n",
      "97 1.6272515\n",
      "98 1.6271422\n",
      "99 1.6268665\n"
     ]
    },
    {
     "data": {
      "image/png": "[encoded data removed]",
      "text/plain": [
       "<Figure size 432x288 with 1 Axes>"
      ]
     },
     "metadata": {
      "needs_background": "light"
     },
     "output_type": "display_data"
    },
    {
     "name": "stdout",
     "output_type": "stream",
     "text": [
      "100 1.6256249\n",
      "101 1.6249667\n",
      "102 1.6246797\n",
      "103 1.6238537\n",
      "104 1.6232544\n",
      "105 1.6225013\n",
      "106 1.622337\n",
      "107 1.6218733\n",
      "108 1.6215955\n",
      "109 1.6213022\n",
      "110 1.6202114\n",
      "111 1.6193305\n",
      "112 1.6184723\n",
      "113 1.6180452\n",
      "114 1.6175518\n",
      "115 1.6174481\n",
      "116 1.6170628\n",
      "117 1.6169544\n",
      "118 1.6167579\n",
      "119 1.616568\n",
      "120 1.6160457\n",
      "121 1.6157578\n",
      "122 1.6157523\n",
      "123 1.6149673\n",
      "124 1.614382\n",
      "125 1.6142125\n",
      "126 1.6135553\n",
      "127 1.6132005\n",
      "128 1.6127343\n",
      "129 1.6124587\n",
      "130 1.6121688\n",
      "131 1.611818\n",
      "132 1.6116537\n",
      "133 1.6111653\n",
      "134 1.6110072\n",
      "135 1.610706\n",
      "136 1.6101718\n",
      "137 1.6096627\n",
      "138 1.6088045\n",
      "139 1.6080536\n",
      "140 1.6078268\n",
      "141 1.6073453\n",
      "142 1.6069087\n",
      "143 1.6060977\n",
      "144 1.6057386\n",
      "145 1.6053201\n",
      "146 1.6049792\n",
      "147 1.6046255\n",
      "148 1.6039814\n",
      "149 1.6035594\n",
      "150 1.6032401\n",
      "151 1.6028794\n",
      "152 1.602793\n",
      "153 1.6024401\n",
      "154 1.6020029\n",
      "155 1.6018354\n",
      "156 1.6011771\n",
      "157 1.6010404\n",
      "158 1.6006867\n",
      "159 1.6006519\n",
      "160 1.600247\n",
      "161 1.6000221\n",
      "162 1.5999732\n",
      "163 1.599846\n",
      "164 1.5995802\n",
      "165 1.5996375\n",
      "166 1.5992786\n",
      "167 1.5991123\n",
      "168 1.5988405\n",
      "169 1.5985717\n",
      "170 1.598332\n",
      "171 1.5977455\n",
      "172 1.5972273\n",
      "173 1.5965155\n",
      "174 1.5960315\n",
      "175 1.5956539\n",
      "176 1.5953116\n",
      "177 1.5949297\n",
      "178 1.5948876\n",
      "179 1.5947505\n",
      "180 1.594276\n",
      "181 1.5939461\n",
      "182 1.5936358\n",
      "183 1.593106\n",
      "184 1.5930828\n",
      "185 1.5926561\n",
      "186 1.592452\n",
      "187 1.5920484\n",
      "188 1.5916449\n",
      "189 1.5912987\n",
      "190 1.5912633\n",
      "191 1.5910827\n",
      "192 1.5908581\n",
      "193 1.5906527\n",
      "194 1.5905421\n",
      "195 1.5903286\n",
      "196 1.5903382\n",
      "197 1.5899384\n",
      "198 1.5901446\n",
      "199 1.5896602\n"
     ]
    },
    {
     "data": {
      "image/png": "[encoded data removed]",
      "text/plain": [
       "<Figure size 432x288 with 1 Axes>"
      ]
     },
     "metadata": {
      "needs_background": "light"
     },
     "output_type": "display_data"
    },
    {
     "name": "stdout",
     "output_type": "stream",
     "text": [
      "200 1.5892049\n",
      "201 1.5887493\n",
      "202 1.588451\n",
      "203 1.5881641\n",
      "204 1.587909\n",
      "205 1.5878721\n",
      "206 1.5876633\n",
      "207 1.5876691\n",
      "208 1.5872414\n",
      "209 1.5869597\n",
      "210 1.5869961\n",
      "211 1.5867593\n",
      "212 1.5863502\n",
      "213 1.5860081\n",
      "214 1.5852377\n",
      "215 1.5845896\n",
      "216 1.5841132\n",
      "217 1.5837305\n",
      "218 1.5833455\n",
      "219 1.58305\n",
      "220 1.5828383\n",
      "221 1.5826563\n",
      "222 1.5821667\n",
      "223 1.5814937\n",
      "224 1.5810761\n",
      "225 1.5809132\n",
      "226 1.5805172\n",
      "227 1.5805618\n",
      "228 1.5801173\n",
      "229 1.5793922\n",
      "230 1.57898\n",
      "231 1.5789468\n",
      "232 1.5784823\n",
      "233 1.5780896\n",
      "234 1.5778493\n",
      "235 1.5776461\n",
      "236 1.5773678\n",
      "237 1.5770141\n",
      "238 1.5767852\n",
      "239 1.5764834\n",
      "240 1.5761203\n",
      "241 1.5755429\n",
      "242 1.5751305\n",
      "243 1.5748069\n",
      "244 1.5745478\n",
      "245 1.5740511\n",
      "246 1.573627\n",
      "247 1.573229\n",
      "248 1.5729836\n",
      "249 1.5725989\n",
      "250 1.5724065\n",
      "251 1.5720599\n",
      "252 1.5717899\n",
      "253 1.5716612\n",
      "254 1.5714933\n",
      "255 1.5712972\n",
      "256 1.5711347\n",
      "257 1.5709841\n",
      "258 1.5706329\n",
      "259 1.5706314\n",
      "260 1.5704751\n",
      "261 1.5703585\n",
      "262 1.5700711\n",
      "263 1.5699108\n",
      "264 1.5697016\n",
      "265 1.5695888\n",
      "266 1.5692146\n",
      "267 1.5692565\n",
      "268 1.5691813\n",
      "269 1.5689107\n",
      "270 1.5686469\n",
      "271 1.5683424\n",
      "272 1.5679232\n",
      "273 1.5679445\n",
      "274 1.5678713\n",
      "275 1.5676473\n",
      "276 1.5672356\n",
      "277 1.5670273\n",
      "278 1.5666213\n",
      "279 1.566444\n",
      "280 1.5661156\n",
      "281 1.565249\n",
      "282 1.5648005\n",
      "283 1.5641793\n",
      "284 1.5635812\n",
      "285 1.5634235\n",
      "286 1.5632131\n",
      "287 1.5628988\n",
      "288 1.562637\n",
      "289 1.5623477\n",
      "290 1.5621195\n",
      "291 1.561712\n",
      "292 1.561443\n",
      "293 1.5611367\n",
      "294 1.5610368\n",
      "295 1.5607556\n",
      "296 1.5606216\n",
      "297 1.5607758\n",
      "298 1.5604792\n",
      "299 1.5602448\n"
     ]
    },
    {
     "data": {
      "image/png": "[encoded data removed]",
      "text/plain": [
       "<Figure size 432x288 with 1 Axes>"
      ]
     },
     "metadata": {
      "needs_background": "light"
     },
     "output_type": "display_data"
    },
    {
     "name": "stdout",
     "output_type": "stream",
     "text": [
      "300 1.5602088\n",
      "301 1.5595514\n",
      "302 1.5589294\n",
      "303 1.5588851\n",
      "304 1.5585955\n",
      "305 1.5584967\n",
      "306 1.5582823\n",
      "307 1.558\n",
      "308 1.5577557\n",
      "309 1.5573626\n",
      "310 1.557099\n",
      "311 1.5569745\n",
      "312 1.556724\n",
      "313 1.5564826\n",
      "314 1.5562812\n",
      "315 1.5556446\n",
      "316 1.5553808\n",
      "317 1.5552312\n",
      "318 1.554843\n",
      "319 1.5544775\n",
      "320 1.5544107\n",
      "321 1.5541303\n",
      "322 1.5535573\n",
      "323 1.5534215\n",
      "324 1.5530813\n",
      "325 1.5529703\n",
      "326 1.5528\n",
      "327 1.5525923\n",
      "328 1.5523422\n",
      "329 1.552112\n",
      "330 1.5517768\n",
      "331 1.5517064\n",
      "332 1.5514278\n",
      "333 1.5511216\n",
      "334 1.5510695\n",
      "335 1.5509081\n",
      "336 1.5504576\n",
      "337 1.5504702\n",
      "338 1.550306\n",
      "339 1.5498592\n",
      "340 1.5496013\n",
      "341 1.5492495\n",
      "342 1.5489659\n",
      "343 1.5486825\n",
      "344 1.5483533\n",
      "345 1.5481813\n",
      "346 1.5477409\n",
      "347 1.5473018\n",
      "348 1.5471625\n",
      "349 1.5468512\n",
      "350 1.546494\n",
      "351 1.5458976\n",
      "352 1.5456659\n",
      "353 1.545567\n",
      "354 1.5453917\n",
      "355 1.5449641\n",
      "356 1.5446031\n",
      "357 1.5442197\n",
      "358 1.5444435\n",
      "359 1.5441923\n",
      "360 1.544091\n",
      "361 1.5441076\n",
      "362 1.5434417\n",
      "363 1.543399\n",
      "364 1.5431567\n",
      "365 1.5427783\n",
      "366 1.5426791\n",
      "367 1.5424207\n",
      "368 1.5419385\n",
      "369 1.5415176\n",
      "370 1.5407344\n",
      "371 1.5403917\n",
      "372 1.5400805\n",
      "373 1.5399489\n",
      "374 1.5396297\n",
      "375 1.5393617\n",
      "376 1.5386156\n",
      "377 1.5382614\n",
      "378 1.5382124\n",
      "379 1.538\n",
      "380 1.5374292\n",
      "381 1.5368005\n",
      "382 1.5367159\n",
      "383 1.5366932\n",
      "384 1.5363281\n",
      "385 1.5359889\n",
      "386 1.5357703\n",
      "387 1.5355881\n",
      "388 1.5353254\n",
      "389 1.534945\n",
      "390 1.5345482\n",
      "391 1.5346234\n",
      "392 1.5343055\n",
      "393 1.5340755\n",
      "394 1.5336701\n",
      "395 1.5332619\n",
      "396 1.5328809\n",
      "397 1.5322676\n",
      "398 1.5322224\n",
      "399 1.5318036\n"
     ]
    },
    {
     "data": {
      "image/png": "[encoded data removed]",
      "text/plain": [
       "<Figure size 432x288 with 1 Axes>"
      ]
     },
     "metadata": {
      "needs_background": "light"
     },
     "output_type": "display_data"
    },
    {
     "name": "stdout",
     "output_type": "stream",
     "text": [
      "400 1.5316432\n",
      "401 1.5314288\n",
      "402 1.5310187\n",
      "403 1.5308226\n",
      "404 1.5305777\n",
      "405 1.5302802\n",
      "406 1.5301237\n",
      "407 1.529707\n",
      "408 1.5293307\n",
      "409 1.528613\n",
      "410 1.528425\n",
      "411 1.5282017\n",
      "412 1.5278218\n",
      "413 1.527663\n",
      "414 1.527501\n",
      "415 1.5272298\n",
      "416 1.5268521\n",
      "417 1.5265325\n",
      "418 1.526119\n",
      "419 1.5259182\n",
      "420 1.5252692\n",
      "421 1.5253048\n",
      "422 1.5249048\n",
      "423 1.5247866\n",
      "424 1.5244963\n",
      "425 1.5243826\n",
      "426 1.5240248\n",
      "427 1.523488\n",
      "428 1.5232376\n",
      "429 1.5229119\n",
      "430 1.5228906\n",
      "431 1.5227056\n",
      "432 1.5223931\n",
      "433 1.5221014\n",
      "434 1.5219402\n",
      "435 1.5212854\n",
      "436 1.520575\n",
      "437 1.5203205\n",
      "438 1.520065\n",
      "439 1.5200702\n",
      "440 1.5198874\n",
      "441 1.519736\n",
      "442 1.5195088\n",
      "443 1.5194893\n",
      "444 1.5193024\n",
      "445 1.5194168\n",
      "446 1.5190513\n",
      "447 1.5188648\n",
      "448 1.5192598\n",
      "449 1.5187185\n",
      "450 1.5185654\n",
      "451 1.5181262\n",
      "452 1.5179851\n",
      "453 1.5179646\n",
      "454 1.5179276\n",
      "455 1.5176584\n",
      "456 1.5176461\n",
      "457 1.5175\n",
      "458 1.5168964\n",
      "459 1.5166411\n",
      "460 1.515938\n",
      "461 1.5158263\n",
      "462 1.5154574\n",
      "463 1.5150594\n",
      "464 1.514854\n",
      "465 1.5143846\n",
      "466 1.5140377\n",
      "467 1.5135767\n",
      "468 1.5134505\n",
      "469 1.513123\n",
      "470 1.5128393\n",
      "471 1.5125884\n",
      "472 1.5120866\n",
      "473 1.5116354\n",
      "474 1.5115203\n",
      "475 1.510839\n",
      "476 1.5106995\n",
      "477 1.5103228\n",
      "478 1.5099485\n",
      "479 1.509372\n",
      "480 1.5095525\n",
      "481 1.5088676\n",
      "482 1.5083956\n",
      "483 1.5080585\n",
      "484 1.5075634\n",
      "485 1.5073888\n",
      "486 1.5071448\n",
      "487 1.5072509\n",
      "488 1.5068029\n",
      "489 1.5065625\n",
      "490 1.5061862\n",
      "491 1.5059125\n",
      "492 1.5054272\n",
      "493 1.5054612\n",
      "494 1.5049363\n",
      "495 1.504727\n",
      "496 1.5042224\n",
      "497 1.5038614\n",
      "498 1.5037625\n",
      "499 1.5033262\n"
     ]
    },
    {
     "data": {
      "image/png": "[encoded data removed]",
      "text/plain": [
       "<Figure size 432x288 with 1 Axes>"
      ]
     },
     "metadata": {
      "needs_background": "light"
     },
     "output_type": "display_data"
    },
    {
     "name": "stdout",
     "output_type": "stream",
     "text": [
      "500 1.5027905\n",
      "501 1.502659\n",
      "502 1.5025125\n",
      "503 1.5019766\n",
      "504 1.5016394\n",
      "505 1.5013529\n",
      "506 1.5010486\n",
      "507 1.5008941\n",
      "508 1.5007389\n",
      "509 1.500756\n",
      "510 1.5004687\n",
      "511 1.5003251\n",
      "512 1.5003566\n",
      "513 1.5001198\n",
      "514 1.4999938\n",
      "515 1.4998281\n",
      "516 1.4996029\n",
      "517 1.4991889\n",
      "518 1.4988166\n",
      "519 1.4985908\n",
      "520 1.4984288\n",
      "521 1.4981575\n",
      "522 1.4978355\n",
      "523 1.4980079\n",
      "524 1.4979156\n",
      "525 1.4976823\n",
      "526 1.4973226\n",
      "527 1.4969599\n",
      "528 1.4964802\n",
      "529 1.4959667\n",
      "530 1.4955279\n",
      "531 1.494792\n",
      "532 1.494482\n",
      "533 1.4941772\n",
      "534 1.4939733\n",
      "535 1.4936786\n",
      "536 1.4932038\n",
      "537 1.4929115\n",
      "538 1.4926667\n",
      "539 1.4926128\n",
      "540 1.492155\n",
      "541 1.4917122\n",
      "542 1.4913305\n",
      "543 1.4913659\n",
      "544 1.4913001\n",
      "545 1.4910879\n",
      "546 1.4911202\n",
      "547 1.4904562\n",
      "548 1.4901519\n",
      "549 1.4898436\n",
      "550 1.4894687\n",
      "551 1.4892277\n",
      "552 1.4889257\n",
      "553 1.4890221\n",
      "554 1.4889363\n",
      "555 1.4886886\n",
      "556 1.4884812\n",
      "557 1.4883786\n",
      "558 1.4882421\n",
      "559 1.4881816\n",
      "560 1.487936\n",
      "561 1.4875987\n",
      "562 1.4873204\n",
      "563 1.4870971\n",
      "564 1.4868013\n",
      "565 1.4865638\n",
      "566 1.4866201\n",
      "567 1.4858869\n",
      "568 1.4856822\n",
      "569 1.4856701\n",
      "570 1.4854621\n",
      "571 1.4852282\n",
      "572 1.4851165\n",
      "573 1.484994\n",
      "574 1.4848961\n",
      "575 1.4848164\n",
      "576 1.4847536\n",
      "577 1.4847312\n",
      "578 1.4847028\n",
      "579 1.4842956\n",
      "580 1.4842356\n",
      "581 1.4843441\n",
      "582 1.4842476\n",
      "583 1.4840845\n",
      "584 1.4840889\n",
      "585 1.4838116\n",
      "586 1.4835243\n",
      "587 1.4833534\n",
      "588 1.4829932\n",
      "589 1.4828877\n",
      "590 1.482756\n",
      "591 1.4822524\n",
      "592 1.4816269\n",
      "593 1.4808608\n",
      "594 1.4802384\n",
      "595 1.4808301\n",
      "596 1.4806484\n",
      "597 1.4800446\n",
      "598 1.4794469\n",
      "599 1.4792886\n"
     ]
    },
    {
     "data": {
      "image/png": "[encoded data removed]",
      "text/plain": [
       "<Figure size 432x288 with 1 Axes>"
      ]
     },
     "metadata": {
      "needs_background": "light"
     },
     "output_type": "display_data"
    },
    {
     "name": "stdout",
     "output_type": "stream",
     "text": [
      "600 1.4787875\n",
      "601 1.4787948\n",
      "602 1.4786074\n",
      "603 1.4780426\n",
      "604 1.4775461\n",
      "605 1.4775066\n",
      "606 1.4773047\n",
      "607 1.4770848\n",
      "608 1.4766269\n",
      "609 1.4760568\n",
      "610 1.4756739\n",
      "611 1.4760696\n",
      "612 1.4754466\n",
      "613 1.4754496\n",
      "614 1.4748607\n",
      "615 1.4748039\n",
      "616 1.4744841\n",
      "617 1.4741954\n",
      "618 1.4740154\n",
      "619 1.473819\n",
      "620 1.4736031\n",
      "621 1.4730637\n",
      "622 1.472788\n",
      "623 1.4725817\n",
      "624 1.4722636\n",
      "625 1.4719008\n",
      "626 1.4715409\n",
      "627 1.4708843\n",
      "628 1.4705107\n",
      "629 1.4701881\n",
      "630 1.4700162\n",
      "631 1.4695997\n",
      "632 1.4693474\n",
      "633 1.4690776\n",
      "634 1.4692725\n",
      "635 1.4687132\n",
      "636 1.4684044\n",
      "637 1.4686381\n",
      "638 1.4679799\n",
      "639 1.4678638\n",
      "640 1.4679643\n",
      "641 1.4678223\n",
      "642 1.4677954\n",
      "643 1.4674673\n",
      "644 1.4673971\n",
      "645 1.4670147\n",
      "646 1.4667238\n",
      "647 1.4662967\n",
      "648 1.4661479\n",
      "649 1.4658422\n",
      "650 1.4657995\n",
      "651 1.4655607\n",
      "652 1.4652594\n",
      "653 1.4648006\n",
      "654 1.4643599\n",
      "655 1.4641414\n",
      "656 1.4637924\n",
      "657 1.4635376\n",
      "658 1.4633653\n",
      "659 1.4629612\n",
      "660 1.4626123\n",
      "661 1.4621315\n",
      "662 1.4617727\n",
      "663 1.4617114\n",
      "664 1.460868\n",
      "665 1.4607095\n",
      "666 1.4601479\n",
      "667 1.4600067\n",
      "668 1.4596252\n",
      "669 1.4594172\n",
      "670 1.459325\n",
      "671 1.4590007\n",
      "672 1.4587004\n",
      "673 1.4583889\n",
      "674 1.4577876\n",
      "675 1.457282\n",
      "676 1.4572376\n",
      "677 1.4569974\n",
      "678 1.4567293\n",
      "679 1.4563476\n",
      "680 1.4561285\n",
      "681 1.4560647\n",
      "682 1.455786\n",
      "683 1.4556648\n",
      "684 1.4554338\n",
      "685 1.4551737\n",
      "686 1.4548811\n",
      "687 1.4547423\n",
      "688 1.4545658\n",
      "689 1.4541844\n",
      "690 1.4540141\n",
      "691 1.4539233\n",
      "692 1.4539185\n",
      "693 1.4536823\n",
      "694 1.4535593\n",
      "695 1.4536091\n",
      "696 1.4529161\n",
      "697 1.4523635\n",
      "698 1.4519138\n",
      "699 1.4517388\n"
     ]
    },
    {
     "data": {
      "image/png": "[encoded data removed]",
      "text/plain": [
       "<Figure size 432x288 with 1 Axes>"
      ]
     },
     "metadata": {
      "needs_background": "light"
     },
     "output_type": "display_data"
    },
    {
     "name": "stdout",
     "output_type": "stream",
     "text": [
      "700 1.4512963\n",
      "701 1.450724\n",
      "702 1.4505048\n",
      "703 1.4503092\n",
      "704 1.4500643\n",
      "705 1.4497972\n",
      "706 1.4495677\n",
      "707 1.44947\n",
      "708 1.4492636\n",
      "709 1.4491078\n",
      "710 1.4486463\n",
      "711 1.4485806\n",
      "712 1.4480846\n",
      "713 1.4478977\n",
      "714 1.4475166\n",
      "715 1.447129\n",
      "716 1.4471221\n",
      "717 1.4468142\n",
      "718 1.4466043\n",
      "719 1.4465115\n",
      "720 1.4462717\n",
      "721 1.4461781\n",
      "722 1.4459416\n",
      "723 1.4457567\n",
      "724 1.445393\n",
      "725 1.4451064\n",
      "726 1.4448823\n",
      "727 1.4445732\n",
      "728 1.4440324\n",
      "729 1.4441458\n",
      "730 1.44365\n",
      "731 1.443495\n",
      "732 1.4432466\n",
      "733 1.4430718\n",
      "734 1.4426956\n",
      "735 1.4424224\n",
      "736 1.4419471\n",
      "737 1.4414192\n",
      "738 1.4413651\n",
      "739 1.4411027\n",
      "740 1.4407833\n",
      "741 1.4406347\n",
      "742 1.440176\n",
      "743 1.4396759\n",
      "744 1.439272\n",
      "745 1.4390649\n",
      "746 1.4387913\n",
      "747 1.4385265\n",
      "748 1.4382279\n",
      "749 1.4380668\n",
      "750 1.4374869\n",
      "751 1.4377174\n",
      "752 1.4373138\n",
      "753 1.4366946\n",
      "754 1.4367315\n",
      "755 1.4359328\n",
      "756 1.4353334\n",
      "757 1.4349071\n",
      "758 1.4344232\n",
      "759 1.4344544\n",
      "760 1.4342357\n",
      "761 1.4340423\n",
      "762 1.4334751\n",
      "763 1.4332587\n",
      "764 1.4329925\n",
      "765 1.4325398\n",
      "766 1.4323813\n",
      "767 1.4321295\n",
      "768 1.4319576\n",
      "769 1.4316835\n",
      "770 1.4316756\n",
      "771 1.4313588\n",
      "772 1.4314088\n",
      "773 1.4311258\n",
      "774 1.4308953\n",
      "775 1.4304917\n",
      "776 1.4304453\n",
      "777 1.4301008\n",
      "778 1.4297953\n",
      "779 1.4297096\n",
      "780 1.4294584\n",
      "781 1.4290234\n",
      "782 1.4286135\n",
      "783 1.4283547\n",
      "784 1.4282365\n",
      "785 1.4283277\n",
      "786 1.4277924\n",
      "787 1.4277987\n",
      "788 1.4273164\n",
      "789 1.4270777\n",
      "790 1.4269828\n",
      "791 1.4268777\n",
      "792 1.4268216\n",
      "793 1.426226\n",
      "794 1.4257165\n",
      "795 1.4257766\n",
      "796 1.4253341\n",
      "797 1.4252981\n",
      "798 1.4251641\n",
      "799 1.4250193\n"
     ]
    },
    {
     "data": {
      "image/png": "[encoded data removed]",
      "text/plain": [
       "<Figure size 432x288 with 1 Axes>"
      ]
     },
     "metadata": {
      "needs_background": "light"
     },
     "output_type": "display_data"
    },
    {
     "name": "stdout",
     "output_type": "stream",
     "text": [
      "800 1.4250683\n",
      "801 1.4249505\n",
      "802 1.4250683\n",
      "803 1.4249232\n",
      "804 1.4247445\n",
      "805 1.4244733\n",
      "806 1.4243065\n",
      "807 1.4239136\n",
      "808 1.4237019\n",
      "809 1.4236606\n",
      "810 1.4235868\n",
      "811 1.4234152\n",
      "812 1.4233075\n",
      "813 1.4229928\n",
      "814 1.4225429\n",
      "815 1.422234\n",
      "816 1.422081\n",
      "817 1.421735\n",
      "818 1.421534\n",
      "819 1.4214786\n",
      "820 1.421028\n",
      "821 1.420942\n",
      "822 1.420674\n",
      "823 1.4206319\n",
      "824 1.4205335\n",
      "825 1.4203228\n",
      "826 1.4203138\n",
      "827 1.4201661\n",
      "828 1.419623\n",
      "829 1.4191414\n",
      "830 1.4193826\n",
      "831 1.418993\n",
      "832 1.4188845\n",
      "833 1.4183235\n",
      "834 1.4185125\n",
      "835 1.4182144\n",
      "836 1.4179922\n",
      "837 1.4179308\n",
      "838 1.4176863\n",
      "839 1.4172697\n",
      "840 1.4170012\n",
      "841 1.4168234\n",
      "842 1.4168748\n",
      "843 1.4164791\n",
      "844 1.4165903\n",
      "845 1.4162911\n",
      "846 1.4161706\n",
      "847 1.4162205\n",
      "848 1.4160972\n",
      "849 1.4160066\n",
      "850 1.415914\n",
      "851 1.4157959\n",
      "852 1.41571\n",
      "853 1.4156677\n",
      "854 1.4155234\n",
      "855 1.4152013\n",
      "856 1.4150969\n",
      "857 1.4146369\n",
      "858 1.4142745\n",
      "859 1.4139506\n",
      "860 1.4137204\n",
      "861 1.4137828\n",
      "862 1.4134052\n",
      "863 1.4131047\n",
      "864 1.4131081\n",
      "865 1.4128026\n",
      "866 1.4124396\n",
      "867 1.4119849\n",
      "868 1.4118257\n",
      "869 1.4114476\n",
      "870 1.4113767\n",
      "871 1.4110229\n",
      "872 1.4107236\n",
      "873 1.4105513\n",
      "874 1.4105693\n",
      "875 1.4100565\n",
      "876 1.4097\n",
      "877 1.4094441\n",
      "878 1.4094281\n",
      "879 1.4093987\n",
      "880 1.4089236\n",
      "881 1.4089782\n",
      "882 1.4087559\n",
      "883 1.4088973\n",
      "884 1.4085855\n",
      "885 1.4086115\n",
      "886 1.4080819\n",
      "887 1.4077421\n",
      "888 1.4076473\n",
      "889 1.4072855\n",
      "890 1.4068941\n",
      "891 1.4068224\n",
      "892 1.4063948\n",
      "893 1.4056814\n",
      "894 1.4054856\n",
      "895 1.4056107\n",
      "896 1.4050392\n",
      "897 1.404838\n",
      "898 1.4047518\n",
      "899 1.4044459\n"
     ]
    },
    {
     "data": {
      "image/png": "[encoded data removed]",
      "text/plain": [
       "<Figure size 432x288 with 1 Axes>"
      ]
     },
     "metadata": {
      "needs_background": "light"
     },
     "output_type": "display_data"
    },
    {
     "name": "stdout",
     "output_type": "stream",
     "text": [
      "900 1.4040152\n",
      "901 1.4039586\n",
      "902 1.4035748\n",
      "903 1.4033335\n",
      "904 1.403294\n",
      "905 1.4030843\n",
      "906 1.4029672\n",
      "907 1.4026904\n",
      "908 1.4024231\n",
      "909 1.4020494\n",
      "910 1.4016767\n",
      "911 1.4014335\n",
      "912 1.4009768\n",
      "913 1.4007463\n",
      "914 1.4001094\n",
      "915 1.4000472\n",
      "916 1.399912\n",
      "917 1.3996993\n",
      "918 1.3995622\n",
      "919 1.399394\n",
      "920 1.3994166\n",
      "921 1.3994945\n",
      "922 1.3991399\n",
      "923 1.3990052\n",
      "924 1.3987308\n",
      "925 1.3986171\n",
      "926 1.3983773\n",
      "927 1.3983378\n",
      "928 1.397925\n",
      "929 1.3976123\n",
      "930 1.3973258\n",
      "931 1.3970944\n",
      "932 1.3971249\n",
      "933 1.3970172\n",
      "934 1.3971788\n",
      "935 1.3967956\n",
      "936 1.3964592\n",
      "937 1.3959094\n",
      "938 1.3957453\n",
      "939 1.3953341\n",
      "940 1.3952068\n",
      "941 1.395053\n",
      "942 1.3949219\n",
      "943 1.3946795\n",
      "944 1.3945345\n",
      "945 1.3944811\n",
      "946 1.3943617\n",
      "947 1.3943417\n",
      "948 1.3942255\n",
      "949 1.394001\n",
      "950 1.3938698\n",
      "951 1.3937045\n",
      "952 1.3935424\n",
      "953 1.3933297\n",
      "954 1.3933336\n",
      "955 1.3932457\n",
      "956 1.3930507\n",
      "957 1.3930792\n",
      "958 1.3929904\n",
      "959 1.3926091\n",
      "960 1.3923692\n",
      "961 1.3920379\n",
      "962 1.3918104\n",
      "963 1.3918127\n",
      "964 1.3911997\n",
      "965 1.3909664\n",
      "966 1.3906691\n",
      "967 1.3905349\n",
      "968 1.3905133\n",
      "969 1.3905054\n",
      "970 1.3902706\n",
      "971 1.3901107\n",
      "972 1.3898729\n",
      "973 1.3899211\n",
      "974 1.3897513\n",
      "975 1.3896949\n",
      "976 1.3894289\n",
      "977 1.3895559\n",
      "978 1.3892235\n",
      "979 1.3890971\n",
      "980 1.3886453\n",
      "981 1.3885058\n",
      "982 1.3880268\n",
      "983 1.387581\n",
      "984 1.3872927\n",
      "985 1.3872087\n",
      "986 1.3869308\n",
      "987 1.3866185\n",
      "988 1.3861463\n",
      "989 1.3860106\n",
      "990 1.3860017\n",
      "991 1.385586\n",
      "992 1.3853573\n",
      "993 1.3850625\n",
      "994 1.3849406\n",
      "995 1.3848827\n",
      "996 1.3844497\n",
      "997 1.384239\n",
      "998 1.3839378\n",
      "999 1.3837866\n"
     ]
    },
    {
     "data": {
      "image/png": "[encoded data removed]",
      "text/plain": [
       "<Figure size 432x288 with 1 Axes>"
      ]
     },
     "metadata": {
      "needs_background": "light"
     },
     "output_type": "display_data"
    }
   ],
   "source": [
    "lr = 0.1\n",
    "losses = []\n",
    "\n",
    "for epoch in range(1000):\n",
    "    with tf.GradientTape() as tape:\n",
    "        pred_y = tf.nn.softmax(X@W + b)\n",
    "        loss = tf.reduce_sum((y - pred_y)**2)/len(y)\n",
    "    \n",
    "    grads = tape.gradient(loss, [W,b])\n",
    "    W.assign_sub(lr*grads[0])\n",
    "    b.assign_sub(lr*grads[1])\n",
    "    \n",
    "    losses.append(loss.numpy())\n",
    "    print(epoch, loss.numpy())\n",
    "    \n",
    "    if (epoch+1)%100==0:\n",
    "        plt.figure()\n",
    "        plt.plot(losses)\n",
    "        plt.show()"
   ]
  },
  {
   "cell_type": "code",
   "execution_count": null,
   "metadata": {},
   "outputs": [],
   "source": []
  },
  {
   "cell_type": "code",
   "execution_count": 104,
   "metadata": {},
   "outputs": [
    {
     "data": {
      "text/plain": [
       "0.14201666666666668"
      ]
     },
     "execution_count": 104,
     "metadata": {},
     "output_type": "execute_result"
    }
   ],
   "source": [
    "pred_y2 = tf.nn.sigmoid(X@W + b)\n",
    "\n",
    "(pred_y2.numpy().argmax(axis=1) == y_train).mean()"
   ]
  },
  {
   "cell_type": "code",
   "execution_count": 53,
   "metadata": {},
   "outputs": [
    {
     "data": {
      "text/plain": [
       "0.1127"
      ]
     },
     "execution_count": 53,
     "metadata": {},
     "output_type": "execute_result"
    }
   ],
   "source": [
    "X2 = X_test.reshape(-1,28*28).astype(np.float32)\n",
    "\n",
    "pred_y2 = tf.nn.sigmoid(X2@W + b)\n",
    "\n",
    "(pred_y2.numpy().argmax(axis=1) == y_test).mean()"
   ]
  },
  {
   "cell_type": "code",
   "execution_count": null,
   "metadata": {},
   "outputs": [],
   "source": []
  },
  {
   "cell_type": "code",
   "execution_count": null,
   "metadata": {},
   "outputs": [],
   "source": []
  },
  {
   "cell_type": "code",
   "execution_count": 10,
   "metadata": {},
   "outputs": [],
   "source": [
    "# 가중치 초기화\n",
    "W = tf.Variable(tf.random.normal([28*28,10]))\n",
    "b = tf.Variable(tf.zeros(10))"
   ]
  },
  {
   "cell_type": "code",
   "execution_count": 11,
   "metadata": {
    "scrolled": false
   },
   "outputs": [
    {
     "name": "stdout",
     "output_type": "stream",
     "text": [
      "0 33.82073\n",
      "1 33.696728\n",
      "2 33.60175\n",
      "3 33.503822\n",
      "4 33.39537\n",
      "5 33.279457\n",
      "6 33.11058\n",
      "7 32.99016\n",
      "8 32.879578\n",
      "9 32.733784\n",
      "10 32.586937\n",
      "11 32.47393\n",
      "12 32.35392\n",
      "13 32.196144\n",
      "14 32.036167\n",
      "15 31.915892\n",
      "16 31.77787\n",
      "17 31.655067\n",
      "18 31.50291\n",
      "19 31.374704\n",
      "20 31.267162\n",
      "21 31.154325\n",
      "22 31.04883\n",
      "23 30.902687\n",
      "24 30.795382\n",
      "25 30.690687\n",
      "26 30.601408\n",
      "27 30.500397\n",
      "28 30.373379\n",
      "29 30.293245\n",
      "30 30.155684\n",
      "31 30.041409\n",
      "32 29.92337\n",
      "33 29.848446\n",
      "34 29.742863\n",
      "35 29.601261\n",
      "36 29.499203\n",
      "37 29.385584\n",
      "38 29.266188\n",
      "39 29.16778\n",
      "40 29.033352\n",
      "41 28.918459\n",
      "42 28.809298\n",
      "43 28.696398\n",
      "44 28.603228\n",
      "45 28.520817\n",
      "46 28.445995\n",
      "47 28.35547\n",
      "48 28.280796\n",
      "49 28.194626\n",
      "50 28.096777\n",
      "51 28.000065\n",
      "52 27.939924\n",
      "53 27.854332\n",
      "54 27.786564\n",
      "55 27.740442\n",
      "56 27.653402\n",
      "57 27.55372\n",
      "58 27.47569\n",
      "59 27.40199\n",
      "60 27.314734\n",
      "61 27.222956\n",
      "62 27.12244\n",
      "63 27.040176\n",
      "64 26.95416\n",
      "65 26.88272\n",
      "66 26.807775\n",
      "67 26.723358\n",
      "68 26.629263\n",
      "69 26.530886\n",
      "70 26.417892\n",
      "71 26.28897\n",
      "72 26.159594\n",
      "73 26.043812\n",
      "74 25.863228\n",
      "75 25.718483\n",
      "76 25.59558\n",
      "77 25.482325\n",
      "78 25.330482\n",
      "79 25.143063\n",
      "80 24.998991\n",
      "81 24.839785\n",
      "82 24.694862\n",
      "83 24.556383\n",
      "84 24.40549\n",
      "85 24.24774\n",
      "86 24.082909\n",
      "87 23.863283\n",
      "88 23.704159\n",
      "89 23.545904\n",
      "90 23.418266\n",
      "91 23.294067\n",
      "92 23.132135\n",
      "93 23.020462\n",
      "94 22.914337\n",
      "95 22.813429\n",
      "96 22.727484\n",
      "97 22.624826\n",
      "98 22.503866\n",
      "99 22.389067\n"
     ]
    },
    {
     "data": {
      "image/png": "[encoded data removed]",
      "text/plain": [
       "<Figure size 432x288 with 1 Axes>"
      ]
     },
     "metadata": {
      "needs_background": "light"
     },
     "output_type": "display_data"
    },
    {
     "name": "stdout",
     "output_type": "stream",
     "text": [
      "100 22.227787\n",
      "101 22.09007\n",
      "102 21.969444\n",
      "103 21.82918\n",
      "104 21.701122\n",
      "105 21.574692\n",
      "106 21.433842\n",
      "107 21.293875\n",
      "108 21.156834\n",
      "109 21.007063\n",
      "110 20.878342\n",
      "111 20.772097\n",
      "112 20.599674\n",
      "113 20.494719\n",
      "114 20.324486\n",
      "115 20.140858\n",
      "116 19.990194\n",
      "117 19.845675\n",
      "118 19.715563\n",
      "119 19.583834\n",
      "120 19.464975\n",
      "121 19.3312\n",
      "122 19.194992\n",
      "123 19.090267\n",
      "124 18.974787\n",
      "125 18.852818\n",
      "126 18.738659\n",
      "127 18.62538\n",
      "128 18.509624\n",
      "129 18.398512\n",
      "130 18.292337\n",
      "131 18.206888\n",
      "132 18.108791\n",
      "133 18.009058\n",
      "134 17.90065\n",
      "135 17.8208\n",
      "136 17.70649\n",
      "137 17.599764\n",
      "138 17.496574\n",
      "139 17.41209\n",
      "140 17.327314\n",
      "141 17.2621\n",
      "142 17.175161\n",
      "143 17.068499\n",
      "144 16.982668\n",
      "145 16.884672\n",
      "146 16.796892\n",
      "147 16.720856\n",
      "148 16.643076\n",
      "149 16.584028\n",
      "150 16.509075\n",
      "151 16.42313\n",
      "152 16.357199\n",
      "153 16.283016\n",
      "154 16.219992\n",
      "155 16.147633\n",
      "156 16.097471\n",
      "157 16.05086\n",
      "158 15.994804\n",
      "159 15.938798\n",
      "160 15.892134\n",
      "161 15.842844\n",
      "162 15.803815\n",
      "163 15.745146\n",
      "164 15.679367\n",
      "165 15.638517\n",
      "166 15.594477\n",
      "167 15.539988\n",
      "168 15.503255\n",
      "169 15.45335\n",
      "170 15.403358\n",
      "171 15.364494\n",
      "172 15.327335\n",
      "173 15.2751665\n",
      "174 15.23891\n",
      "175 15.179628\n",
      "176 15.134081\n",
      "177 15.114283\n",
      "178 15.078473\n",
      "179 15.028721\n",
      "180 14.989873\n",
      "181 14.953956\n",
      "182 14.897813\n",
      "183 14.856132\n",
      "184 14.822224\n",
      "185 14.819224\n",
      "186 14.764582\n",
      "187 14.720637\n",
      "188 14.695268\n",
      "189 14.663638\n",
      "190 14.627369\n",
      "191 14.58118\n",
      "192 14.537998\n",
      "193 14.513125\n",
      "194 14.508311\n",
      "195 14.460852\n",
      "196 14.426025\n",
      "197 14.3904915\n",
      "198 14.376491\n",
      "199 14.330534\n"
     ]
    },
    {
     "data": {
      "image/png": "[encoded data removed]",
      "text/plain": [
       "<Figure size 432x288 with 1 Axes>"
      ]
     },
     "metadata": {
      "needs_background": "light"
     },
     "output_type": "display_data"
    },
    {
     "name": "stdout",
     "output_type": "stream",
     "text": [
      "200 14.29576\n",
      "201 14.268395\n",
      "202 14.249834\n",
      "203 14.239494\n",
      "204 14.196132\n",
      "205 14.166446\n",
      "206 14.141237\n",
      "207 14.112712\n",
      "208 14.079667\n",
      "209 14.056419\n",
      "210 14.023543\n",
      "211 14.006003\n",
      "212 13.987242\n",
      "213 13.96922\n",
      "214 13.955816\n",
      "215 13.910672\n",
      "216 13.904213\n",
      "217 13.883554\n",
      "218 13.862002\n",
      "219 13.830642\n",
      "220 13.803606\n",
      "221 13.779429\n",
      "222 13.765271\n",
      "223 13.7378645\n",
      "224 13.712323\n",
      "225 13.675119\n",
      "226 13.658963\n",
      "227 13.64021\n",
      "228 13.621075\n",
      "229 13.595365\n",
      "230 13.5764475\n",
      "231 13.5621605\n",
      "232 13.5291605\n",
      "233 13.517171\n",
      "234 13.498343\n",
      "235 13.481563\n",
      "236 13.46544\n",
      "237 13.4450035\n",
      "238 13.44445\n",
      "239 13.41007\n",
      "240 13.388919\n",
      "241 13.365986\n",
      "242 13.367267\n",
      "243 13.345096\n",
      "244 13.322981\n",
      "245 13.302073\n",
      "246 13.289864\n",
      "247 13.290717\n",
      "248 13.251119\n",
      "249 13.235425\n",
      "250 13.216534\n",
      "251 13.1986\n",
      "252 13.191125\n",
      "253 13.191967\n",
      "254 13.178855\n",
      "255 13.141211\n",
      "256 13.127784\n",
      "257 13.112325\n",
      "258 13.084633\n",
      "259 13.081082\n",
      "260 13.051819\n",
      "261 13.031763\n",
      "262 13.024913\n",
      "263 13.007793\n",
      "264 13.00212\n",
      "265 12.985889\n",
      "266 12.962304\n",
      "267 12.952458\n",
      "268 12.953765\n",
      "269 12.930041\n",
      "270 12.915831\n",
      "271 12.895836\n",
      "272 12.888426\n",
      "273 12.864256\n",
      "274 12.848666\n",
      "275 12.843641\n",
      "276 12.851308\n",
      "277 12.818635\n",
      "278 12.815854\n",
      "279 12.791871\n",
      "280 12.766353\n",
      "281 12.759423\n",
      "282 12.738036\n",
      "283 12.743215\n",
      "284 12.726058\n",
      "285 12.702869\n",
      "286 12.685319\n",
      "287 12.6638565\n",
      "288 12.665406\n",
      "289 12.634966\n",
      "290 12.628448\n",
      "291 12.606436\n",
      "292 12.600448\n",
      "293 12.581076\n",
      "294 12.564563\n",
      "295 12.538738\n",
      "296 12.524056\n",
      "297 12.521448\n",
      "298 12.534254\n",
      "299 12.491962\n"
     ]
    },
    {
     "data": {
      "image/png": "[encoded data removed]",
      "text/plain": [
       "<Figure size 432x288 with 1 Axes>"
      ]
     },
     "metadata": {
      "needs_background": "light"
     },
     "output_type": "display_data"
    },
    {
     "name": "stdout",
     "output_type": "stream",
     "text": [
      "300 12.480108\n",
      "301 12.477383\n",
      "302 12.470722\n",
      "303 12.463115\n",
      "304 12.443012\n",
      "305 12.444243\n",
      "306 12.433967\n",
      "307 12.410466\n",
      "308 12.386135\n",
      "309 12.379419\n",
      "310 12.365224\n",
      "311 12.371171\n",
      "312 12.365402\n",
      "313 12.339976\n",
      "314 12.337246\n",
      "315 12.328273\n",
      "316 12.322038\n",
      "317 12.317458\n",
      "318 12.295837\n",
      "319 12.27493\n",
      "320 12.2525215\n",
      "321 12.239414\n",
      "322 12.233876\n",
      "323 12.21826\n",
      "324 12.219626\n",
      "325 12.209669\n",
      "326 12.212568\n",
      "327 12.18864\n",
      "328 12.174903\n",
      "329 12.175318\n",
      "330 12.185298\n",
      "331 12.16224\n",
      "332 12.155485\n",
      "333 12.145229\n",
      "334 12.159577\n",
      "335 12.118442\n",
      "336 12.116578\n",
      "337 12.111812\n",
      "338 12.117541\n",
      "339 12.096401\n",
      "340 12.086162\n",
      "341 12.075246\n",
      "342 12.088504\n",
      "343 12.057589\n",
      "344 12.040623\n",
      "345 12.051248\n",
      "346 12.027228\n",
      "347 12.040781\n",
      "348 12.006256\n",
      "349 12.013175\n",
      "350 12.013072\n",
      "351 11.987653\n",
      "352 11.973963\n",
      "353 11.987548\n",
      "354 11.977977\n",
      "355 11.972194\n",
      "356 11.980617\n",
      "357 11.954634\n",
      "358 11.978288\n",
      "359 11.957178\n",
      "360 11.933181\n",
      "361 11.921482\n",
      "362 11.922992\n",
      "363 11.89906\n",
      "364 11.901542\n",
      "365 11.88442\n",
      "366 11.886719\n",
      "367 11.882744\n",
      "368 11.856175\n",
      "369 11.842798\n",
      "370 11.8522835\n",
      "371 11.83821\n",
      "372 11.837226\n",
      "373 11.826144\n",
      "374 11.803121\n",
      "375 11.800579\n",
      "376 11.814194\n",
      "377 11.784894\n",
      "378 11.808041\n",
      "379 11.768335\n",
      "380 11.758336\n",
      "381 11.749553\n",
      "382 11.748952\n",
      "383 11.731814\n",
      "384 11.744008\n",
      "385 11.716359\n",
      "386 11.7191105\n",
      "387 11.702955\n",
      "388 11.700454\n",
      "389 11.695494\n",
      "390 11.701999\n",
      "391 11.677\n",
      "392 11.668552\n",
      "393 11.673543\n",
      "394 11.65738\n",
      "395 11.651506\n",
      "396 11.643446\n",
      "397 11.65596\n",
      "398 11.62969\n",
      "399 11.619027\n"
     ]
    },
    {
     "data": {
      "image/png": "[encoded data removed]",
      "text/plain": [
       "<Figure size 432x288 with 1 Axes>"
      ]
     },
     "metadata": {
      "needs_background": "light"
     },
     "output_type": "display_data"
    },
    {
     "name": "stdout",
     "output_type": "stream",
     "text": [
      "400 11.607675\n",
      "401 11.601902\n",
      "402 11.590599\n",
      "403 11.601022\n",
      "404 11.608404\n",
      "405 11.581734\n",
      "406 11.595563\n",
      "407 11.556449\n",
      "408 11.545827\n",
      "409 11.547997\n",
      "410 11.538929\n",
      "411 11.52651\n",
      "412 11.550026\n",
      "413 11.527624\n",
      "414 11.518131\n",
      "415 11.5106125\n",
      "416 11.504411\n",
      "417 11.490971\n",
      "418 11.476153\n",
      "419 11.476525\n",
      "420 11.479054\n",
      "421 11.474306\n",
      "422 11.489029\n",
      "423 11.452123\n",
      "424 11.445646\n",
      "425 11.43749\n",
      "426 11.44081\n",
      "427 11.435495\n",
      "428 11.422921\n",
      "429 11.4127445\n",
      "430 11.422845\n",
      "431 11.401067\n",
      "432 11.402299\n",
      "433 11.400273\n",
      "434 11.386765\n",
      "435 11.378332\n",
      "436 11.368434\n",
      "437 11.357114\n",
      "438 11.361512\n",
      "439 11.346023\n",
      "440 11.336546\n",
      "441 11.329065\n",
      "442 11.3286085\n",
      "443 11.320192\n",
      "444 11.3352165\n",
      "445 11.3246565\n",
      "446 11.324916\n",
      "447 11.317567\n",
      "448 11.290127\n",
      "449 11.283486\n",
      "450 11.287945\n",
      "451 11.270985\n",
      "452 11.265569\n",
      "453 11.265856\n",
      "454 11.252495\n",
      "455 11.237998\n",
      "456 11.230095\n",
      "457 11.235513\n",
      "458 11.234586\n",
      "459 11.219747\n",
      "460 11.228937\n",
      "461 11.222238\n",
      "462 11.207277\n",
      "463 11.205368\n",
      "464 11.188308\n",
      "465 11.19368\n",
      "466 11.196438\n",
      "467 11.175439\n",
      "468 11.189466\n",
      "469 11.191\n",
      "470 11.171638\n",
      "471 11.170691\n",
      "472 11.149129\n",
      "473 11.16015\n",
      "474 11.14263\n",
      "475 11.13314\n",
      "476 11.14496\n",
      "477 11.131207\n",
      "478 11.123424\n",
      "479 11.125081\n",
      "480 11.129111\n",
      "481 11.114408\n",
      "482 11.103117\n",
      "483 11.099396\n",
      "484 11.106102\n",
      "485 11.087364\n",
      "486 11.083058\n",
      "487 11.0748415\n",
      "488 11.06756\n",
      "489 11.053762\n",
      "490 11.05328\n",
      "491 11.039889\n",
      "492 11.0529375\n",
      "493 11.05212\n",
      "494 11.055213\n",
      "495 11.029214\n",
      "496 11.013064\n",
      "497 11.025721\n",
      "498 11.023877\n",
      "499 11.013729\n"
     ]
    },
    {
     "data": {
      "image/png": "[encoded data removed]",
      "text/plain": [
       "<Figure size 432x288 with 1 Axes>"
      ]
     },
     "metadata": {
      "needs_background": "light"
     },
     "output_type": "display_data"
    },
    {
     "name": "stdout",
     "output_type": "stream",
     "text": [
      "500 10.993014\n",
      "501 10.998936\n",
      "502 11.011805\n",
      "503 10.981512\n",
      "504 10.989408\n",
      "505 11.017646\n",
      "506 11.000513\n",
      "507 10.986977\n",
      "508 10.977921\n",
      "509 10.979841\n",
      "510 10.9809675\n",
      "511 10.963764\n",
      "512 10.970684\n",
      "513 10.954504\n",
      "514 10.940648\n",
      "515 10.943267\n",
      "516 10.976469\n",
      "517 10.941667\n",
      "518 10.94879\n",
      "519 10.93461\n",
      "520 10.921516\n",
      "521 10.917697\n",
      "522 10.912406\n",
      "523 10.897005\n",
      "524 10.902465\n",
      "525 10.892073\n",
      "526 10.903627\n",
      "527 10.875571\n",
      "528 10.877872\n",
      "529 10.867673\n",
      "530 10.866781\n",
      "531 10.892904\n",
      "532 10.875859\n",
      "533 10.896384\n",
      "534 10.852049\n",
      "535 10.843102\n",
      "536 10.8285475\n",
      "537 10.828552\n",
      "538 10.811449\n",
      "539 10.823791\n",
      "540 10.821942\n",
      "541 10.795359\n",
      "542 10.792893\n",
      "543 10.793929\n",
      "544 10.807758\n",
      "545 10.810004\n",
      "546 10.780117\n",
      "547 10.7724905\n",
      "548 10.784153\n",
      "549 10.757334\n",
      "550 10.752969\n",
      "551 10.752742\n",
      "552 10.749325\n",
      "553 10.745477\n",
      "554 10.730999\n",
      "555 10.734118\n",
      "556 10.718773\n",
      "557 10.717417\n",
      "558 10.730465\n",
      "559 10.7324\n",
      "560 10.716496\n",
      "561 10.74309\n",
      "562 10.710532\n",
      "563 10.686925\n",
      "564 10.693708\n",
      "565 10.686975\n",
      "566 10.710603\n",
      "567 10.672517\n",
      "568 10.6859045\n",
      "569 10.658979\n",
      "570 10.654642\n",
      "571 10.643586\n",
      "572 10.643821\n",
      "573 10.665179\n",
      "574 10.6642275\n",
      "575 10.64142\n",
      "576 10.671633\n",
      "577 10.677994\n",
      "578 10.647475\n",
      "579 10.629963\n",
      "580 10.628892\n",
      "581 10.610889\n",
      "582 10.607704\n",
      "583 10.6112795\n",
      "584 10.607956\n",
      "585 10.612052\n",
      "586 10.611794\n",
      "587 10.635586\n",
      "588 10.590192\n",
      "589 10.595883\n",
      "590 10.591198\n",
      "591 10.588871\n",
      "592 10.587472\n",
      "593 10.57605\n",
      "594 10.577027\n",
      "595 10.558525\n",
      "596 10.546153\n",
      "597 10.544262\n",
      "598 10.531234\n",
      "599 10.541579\n"
     ]
    },
    {
     "data": {
      "image/png": "[encoded data removed]",
      "text/plain": [
       "<Figure size 432x288 with 1 Axes>"
      ]
     },
     "metadata": {
      "needs_background": "light"
     },
     "output_type": "display_data"
    },
    {
     "name": "stdout",
     "output_type": "stream",
     "text": [
      "600 10.5640955\n",
      "601 10.518701\n",
      "602 10.512389\n",
      "603 10.504146\n",
      "604 10.5003805\n",
      "605 10.512288\n",
      "606 10.553042\n",
      "607 10.513198\n",
      "608 10.4984455\n",
      "609 10.512445\n",
      "610 10.5017605\n",
      "611 10.504216\n",
      "612 10.482352\n",
      "613 10.479612\n",
      "614 10.488477\n",
      "615 10.505601\n",
      "616 10.459775\n",
      "617 10.444685\n",
      "618 10.446565\n",
      "619 10.457889\n",
      "620 10.478173\n",
      "621 10.443169\n",
      "622 10.449028\n",
      "623 10.452398\n",
      "624 10.430162\n",
      "625 10.42846\n",
      "626 10.430977\n",
      "627 10.422232\n",
      "628 10.402178\n",
      "629 10.399915\n",
      "630 10.391913\n",
      "631 10.397656\n",
      "632 10.417117\n",
      "633 10.413127\n",
      "634 10.401526\n",
      "635 10.389429\n",
      "636 10.38699\n",
      "637 10.3748\n",
      "638 10.367454\n",
      "639 10.367785\n",
      "640 10.384886\n",
      "641 10.373456\n",
      "642 10.40869\n",
      "643 10.368707\n",
      "644 10.372923\n",
      "645 10.351255\n",
      "646 10.341704\n",
      "647 10.343348\n",
      "648 10.338632\n",
      "649 10.344954\n",
      "650 10.34297\n",
      "651 10.347954\n",
      "652 10.343156\n",
      "653 10.336275\n",
      "654 10.33427\n",
      "655 10.315744\n",
      "656 10.304334\n",
      "657 10.299648\n",
      "658 10.311729\n",
      "659 10.295883\n",
      "660 10.319983\n",
      "661 10.29751\n",
      "662 10.314867\n",
      "663 10.300961\n",
      "664 10.288981\n",
      "665 10.310091\n",
      "666 10.300481\n",
      "667 10.291323\n",
      "668 10.298887\n",
      "669 10.266012\n",
      "670 10.277312\n",
      "671 10.286319\n",
      "672 10.29313\n",
      "673 10.268401\n",
      "674 10.263109\n",
      "675 10.278837\n",
      "676 10.286308\n",
      "677 10.254637\n",
      "678 10.251546\n",
      "679 10.259158\n",
      "680 10.255475\n",
      "681 10.260854\n",
      "682 10.303841\n",
      "683 10.262144\n",
      "684 10.239097\n",
      "685 10.220938\n",
      "686 10.22827\n",
      "687 10.235534\n",
      "688 10.247356\n",
      "689 10.204783\n",
      "690 10.208989\n",
      "691 10.211664\n",
      "692 10.2209\n",
      "693 10.225794\n",
      "694 10.191544\n",
      "695 10.185039\n",
      "696 10.183036\n",
      "697 10.191851\n",
      "698 10.1890135\n",
      "699 10.183332\n"
     ]
    },
    {
     "data": {
      "image/png": "[encoded data removed]",
      "text/plain": [
       "<Figure size 432x288 with 1 Axes>"
      ]
     },
     "metadata": {
      "needs_background": "light"
     },
     "output_type": "display_data"
    },
    {
     "name": "stdout",
     "output_type": "stream",
     "text": [
      "700 10.177556\n",
      "701 10.1846075\n",
      "702 10.160273\n",
      "703 10.164187\n",
      "704 10.171494\n",
      "705 10.163729\n",
      "706 10.174561\n",
      "707 10.145629\n",
      "708 10.144013\n",
      "709 10.145008\n",
      "710 10.132313\n",
      "711 10.154162\n",
      "712 10.159805\n",
      "713 10.1641035\n",
      "714 10.144619\n",
      "715 10.159552\n",
      "716 10.118998\n",
      "717 10.123361\n",
      "718 10.131501\n",
      "719 10.123164\n",
      "720 10.113909\n",
      "721 10.132755\n",
      "722 10.121486\n",
      "723 10.108334\n",
      "724 10.110865\n",
      "725 10.12554\n",
      "726 10.101915\n",
      "727 10.0982\n",
      "728 10.0998335\n",
      "729 10.093611\n",
      "730 10.107684\n",
      "731 10.09595\n",
      "732 10.116129\n",
      "733 10.084873\n",
      "734 10.086679\n",
      "735 10.08188\n",
      "736 10.082417\n",
      "737 10.087165\n",
      "738 10.064408\n",
      "739 10.09415\n",
      "740 10.063491\n",
      "741 10.098219\n",
      "742 10.078156\n",
      "743 10.070212\n",
      "744 10.055249\n",
      "745 10.049381\n",
      "746 10.044817\n",
      "747 10.058731\n",
      "748 10.079994\n",
      "749 10.060437\n",
      "750 10.034705\n",
      "751 10.037531\n",
      "752 10.050298\n",
      "753 10.052649\n",
      "754 10.041422\n",
      "755 10.040173\n",
      "756 10.049327\n",
      "757 10.033177\n",
      "758 10.052196\n",
      "759 10.030334\n",
      "760 10.01481\n",
      "761 10.013687\n",
      "762 10.016313\n",
      "763 10.010129\n",
      "764 10.013798\n",
      "765 10.000184\n",
      "766 9.988556\n",
      "767 9.999171\n",
      "768 10.008467\n",
      "769 10.020351\n",
      "770 10.00114\n",
      "771 9.999089\n",
      "772 9.998204\n",
      "773 9.993327\n",
      "774 9.9978895\n",
      "775 9.982256\n",
      "776 9.980221\n",
      "777 9.965158\n",
      "778 9.989716\n",
      "779 9.999756\n",
      "780 9.979674\n",
      "781 9.963841\n",
      "782 9.972106\n",
      "783 9.962799\n",
      "784 9.964436\n",
      "785 9.95835\n",
      "786 9.951723\n",
      "787 9.961911\n",
      "788 9.997629\n",
      "789 9.943007\n",
      "790 9.943935\n",
      "791 9.958102\n",
      "792 9.953947\n",
      "793 9.94249\n",
      "794 9.945648\n",
      "795 9.94315\n",
      "796 9.979964\n",
      "797 9.92831\n",
      "798 9.928737\n",
      "799 9.94469\n"
     ]
    },
    {
     "data": {
      "image/png": "[encoded data removed]",
      "text/plain": [
       "<Figure size 432x288 with 1 Axes>"
      ]
     },
     "metadata": {
      "needs_background": "light"
     },
     "output_type": "display_data"
    },
    {
     "name": "stdout",
     "output_type": "stream",
     "text": [
      "800 9.943519\n",
      "801 9.926398\n",
      "802 9.928758\n",
      "803 9.923575\n",
      "804 9.9274845\n",
      "805 9.914398\n",
      "806 9.913523\n",
      "807 9.924517\n",
      "808 9.946598\n",
      "809 9.90691\n",
      "810 9.910923\n",
      "811 9.934228\n",
      "812 9.90511\n",
      "813 9.906248\n",
      "814 9.91536\n",
      "815 9.925875\n",
      "816 9.925886\n",
      "817 9.901586\n",
      "818 9.904188\n",
      "819 9.904999\n",
      "820 9.923041\n",
      "821 9.900025\n",
      "822 9.929098\n",
      "823 9.9338045\n",
      "824 9.909493\n",
      "825 9.934949\n",
      "826 9.93733\n",
      "827 9.89104\n",
      "828 9.881295\n",
      "829 9.876279\n",
      "830 9.875252\n",
      "831 9.9113655\n",
      "832 9.919317\n",
      "833 9.881956\n",
      "834 9.877299\n",
      "835 9.870448\n",
      "836 9.8671\n",
      "837 9.886467\n",
      "838 9.8807335\n",
      "839 9.92092\n",
      "840 9.887788\n",
      "841 9.899115\n",
      "842 9.892892\n",
      "843 9.866573\n",
      "844 9.869324\n",
      "845 9.891564\n",
      "846 9.888222\n",
      "847 9.854885\n",
      "848 9.85005\n",
      "849 9.850102\n",
      "850 9.856357\n",
      "851 9.853227\n",
      "852 9.883773\n",
      "853 9.850321\n",
      "854 9.855596\n",
      "855 9.83981\n",
      "856 9.838683\n",
      "857 9.852026\n",
      "858 9.862873\n",
      "859 9.842527\n",
      "860 9.849213\n",
      "861 9.8524\n",
      "862 9.842849\n",
      "863 9.877361\n",
      "864 9.838989\n",
      "865 9.842174\n",
      "866 9.843086\n",
      "867 9.831949\n",
      "868 9.872002\n",
      "869 9.853636\n",
      "870 9.861806\n",
      "871 9.851741\n",
      "872 9.859702\n",
      "873 9.885279\n",
      "874 9.85356\n",
      "875 9.8202915\n",
      "876 9.812412\n",
      "877 9.809771\n",
      "878 9.821175\n",
      "879 9.82148\n",
      "880 9.835911\n",
      "881 9.815243\n",
      "882 9.813069\n",
      "883 9.808403\n",
      "884 9.808476\n",
      "885 9.820448\n",
      "886 9.846842\n",
      "887 9.81883\n",
      "888 9.806332\n",
      "889 9.812722\n",
      "890 9.815186\n",
      "891 9.8229\n",
      "892 9.806101\n",
      "893 9.808488\n",
      "894 9.825752\n",
      "895 9.79715\n",
      "896 9.801569\n",
      "897 9.796577\n",
      "898 9.787381\n",
      "899 9.783334\n"
     ]
    },
    {
     "data": {
      "image/png": "[encoded data removed]",
      "text/plain": [
       "<Figure size 432x288 with 1 Axes>"
      ]
     },
     "metadata": {
      "needs_background": "light"
     },
     "output_type": "display_data"
    },
    {
     "name": "stdout",
     "output_type": "stream",
     "text": [
      "900 9.788714\n",
      "901 9.80183\n",
      "902 9.809476\n",
      "903 9.830164\n",
      "904 9.803641\n",
      "905 9.77479\n",
      "906 9.776162\n",
      "907 9.775024\n",
      "908 9.787836\n",
      "909 9.785259\n",
      "910 9.781665\n",
      "911 9.773601\n",
      "912 9.760467\n",
      "913 9.759135\n",
      "914 9.775175\n",
      "915 9.790077\n",
      "916 9.783802\n",
      "917 9.751534\n",
      "918 9.753067\n",
      "919 9.760018\n",
      "920 9.770752\n",
      "921 9.772086\n",
      "922 9.767699\n",
      "923 9.743105\n",
      "924 9.740157\n",
      "925 9.738206\n",
      "926 9.731443\n",
      "927 9.737208\n",
      "928 9.7337\n",
      "929 9.739931\n",
      "930 9.740362\n",
      "931 9.744504\n",
      "932 9.73416\n",
      "933 9.725511\n",
      "934 9.718227\n",
      "935 9.718815\n",
      "936 9.726793\n",
      "937 9.724834\n",
      "938 9.733392\n",
      "939 9.736965\n",
      "940 9.733766\n",
      "941 9.723695\n",
      "942 9.711591\n",
      "943 9.712213\n",
      "944 9.736384\n",
      "945 9.755306\n",
      "946 9.722799\n",
      "947 9.71645\n",
      "948 9.718658\n",
      "949 9.69609\n",
      "950 9.695129\n",
      "951 9.714501\n",
      "952 9.719478\n",
      "953 9.697854\n",
      "954 9.6930895\n",
      "955 9.709481\n",
      "956 9.691539\n",
      "957 9.700129\n",
      "958 9.695434\n",
      "959 9.69179\n",
      "960 9.706694\n",
      "961 9.71439\n",
      "962 9.710787\n",
      "963 9.688716\n",
      "964 9.686877\n",
      "965 9.682021\n",
      "966 9.681891\n",
      "967 9.678479\n",
      "968 9.68626\n",
      "969 9.673493\n",
      "970 9.670652\n",
      "971 9.674005\n",
      "972 9.69123\n",
      "973 9.669354\n",
      "974 9.683436\n",
      "975 9.672544\n",
      "976 9.689514\n",
      "977 9.666291\n",
      "978 9.672183\n",
      "979 9.691723\n",
      "980 9.670906\n",
      "981 9.689466\n",
      "982 9.660696\n",
      "983 9.659469\n",
      "984 9.6657\n",
      "985 9.674623\n",
      "986 9.666506\n",
      "987 9.656381\n",
      "988 9.666413\n",
      "989 9.684109\n",
      "990 9.66195\n",
      "991 9.657325\n",
      "992 9.6647415\n",
      "993 9.658721\n",
      "994 9.653058\n",
      "995 9.651635\n",
      "996 9.648385\n",
      "997 9.644196\n",
      "998 9.650572\n",
      "999 9.6729555\n"
     ]
    },
    {
     "data": {
      "image/png": "[encoded data removed]",
      "text/plain": [
       "<Figure size 432x288 with 1 Axes>"
      ]
     },
     "metadata": {
      "needs_background": "light"
     },
     "output_type": "display_data"
    }
   ],
   "source": [
    "lr = 0.1\n",
    "losses = []\n",
    "eps = np.finfo(float).eps\n",
    "\n",
    "for epoch in range(1000):\n",
    "    with tf.GradientTape() as tape:\n",
    "        pred_y = tf.nn.softmax(X@W + b)\n",
    "        loss = tf.reduce_sum(-y*tf.math.log(pred_y+eps))/len(y) # epsilon\n",
    "    \n",
    "    grads = tape.gradient(loss, [W,b])\n",
    "    W.assign_sub(lr*grads[0])\n",
    "    b.assign_sub(lr*grads[1])\n",
    "    \n",
    "    losses.append(loss.numpy())\n",
    "    print(epoch, loss.numpy())\n",
    "    \n",
    "    if (epoch+1)%100==0:\n",
    "        plt.figure()\n",
    "        plt.plot(losses)\n",
    "        plt.show()"
   ]
  },
  {
   "cell_type": "code",
   "execution_count": null,
   "metadata": {},
   "outputs": [],
   "source": []
  },
  {
   "cell_type": "code",
   "execution_count": 12,
   "metadata": {},
   "outputs": [
    {
     "data": {
      "text/plain": [
       "0.24835"
      ]
     },
     "execution_count": 12,
     "metadata": {},
     "output_type": "execute_result"
    }
   ],
   "source": [
    "pred_y2 = tf.nn.sigmoid(X@W + b)\n",
    "\n",
    "(pred_y2.numpy().argmax(axis=1) == y_train).mean()"
   ]
  },
  {
   "cell_type": "code",
   "execution_count": null,
   "metadata": {},
   "outputs": [],
   "source": []
  }
 ],
 "metadata": {
  "kernelspec": {
   "display_name": "Python 3",
   "language": "python",
   "name": "python3"
  },
  "language_info": {
   "codemirror_mode": {
    "name": "ipython",
    "version": 3
   },
   "file_extension": ".py",
   "mimetype": "text/x-python",
   "name": "python",
   "nbconvert_exporter": "python",
   "pygments_lexer": "ipython3",
   "version": "3.8.5"
  }
 },
 "nbformat": 4,
 "nbformat_minor": 4
}
